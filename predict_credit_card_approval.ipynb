{
 "cells": [
  {
   "cell_type": "markdown",
   "metadata": {},
   "source": [
    "## Credit card applications"
   ]
  },
  {
   "cell_type": "markdown",
   "metadata": {},
   "source": [
    "Commercial banks receive a lot of applications for credit cards. Many of them get rejected for many reasons, like high loan balances, low income levels, or too many inquiries on an individual's credit report, for example. Manually analyzing these applications is mundane, error-prone, and time-consuming (and time is money!). Luckily, this task can be automated with the power of machine learning and pretty much every commercial bank does so nowadays"
   ]
  },
  {
   "cell_type": "markdown",
   "metadata": {},
   "source": [
    "For this project, we will build an automatic credit card approval predictor using machine learning techniques just like real banks do"
   ]
  },
  {
   "cell_type": "markdown",
   "metadata": {},
   "source": [
    "We will use [Credit Card approval dataset](http://archive.ics.uci.edu/ml/datasets/credit+approval) from the UCI machine learning repository. "
   ]
  },
  {
   "cell_type": "code",
   "execution_count": 1,
   "metadata": {},
   "outputs": [],
   "source": [
    "import pandas as pd\n",
    "import numpy as np \n",
    "import matplotlib.pyplot as plt\n",
    "import seaborn as sns\n",
    "%matplotlib inline"
   ]
  },
  {
   "cell_type": "code",
   "execution_count": 2,
   "metadata": {},
   "outputs": [],
   "source": [
    "#ignores future warnings\n",
    "import warnings\n",
    "warnings.filterwarnings(\"ignore\", category=FutureWarning)"
   ]
  },
  {
   "cell_type": "code",
   "execution_count": 3,
   "metadata": {},
   "outputs": [],
   "source": [
    "from sklearn.utils.testing import ignore_warnings\n",
    "from sklearn.exceptions import ConvergenceWarning"
   ]
  },
  {
   "cell_type": "code",
   "execution_count": 4,
   "metadata": {},
   "outputs": [],
   "source": [
    "with warnings.catch_warnings():\n",
    "    warnings.filterwarnings(\"ignore\", category=ConvergenceWarning)"
   ]
  },
  {
   "cell_type": "code",
   "execution_count": 5,
   "metadata": {},
   "outputs": [],
   "source": [
    "#load datasets\n",
    "cc_apps = pd.read_csv(\"crx.csv\", names = [\"Gender\", \"Age\", \"Debt\", \"Married\", \"BankCustomer\", \"EducationLevel\", \"Ethnicity\", \"YearsEmployed\", \"PriorDefault\", \"Employed\", \\\n",
    "                                         \"CreditScore\", \"DriversLicense\", \"Citizen\", \"ZipCode\", \"Income\", \"ApprovalStatus\"])"
   ]
  },
  {
   "cell_type": "code",
   "execution_count": 6,
   "metadata": {},
   "outputs": [
    {
     "data": {
      "text/plain": [
       "(690, 16)"
      ]
     },
     "execution_count": 6,
     "metadata": {},
     "output_type": "execute_result"
    }
   ],
   "source": [
    "cc_apps.shape"
   ]
  },
  {
   "cell_type": "code",
   "execution_count": 7,
   "metadata": {},
   "outputs": [
    {
     "data": {
      "text/html": [
       "<div>\n",
       "<style scoped>\n",
       "    .dataframe tbody tr th:only-of-type {\n",
       "        vertical-align: middle;\n",
       "    }\n",
       "\n",
       "    .dataframe tbody tr th {\n",
       "        vertical-align: top;\n",
       "    }\n",
       "\n",
       "    .dataframe thead th {\n",
       "        text-align: right;\n",
       "    }\n",
       "</style>\n",
       "<table border=\"1\" class=\"dataframe\">\n",
       "  <thead>\n",
       "    <tr style=\"text-align: right;\">\n",
       "      <th></th>\n",
       "      <th>Gender</th>\n",
       "      <th>Age</th>\n",
       "      <th>Debt</th>\n",
       "      <th>Married</th>\n",
       "      <th>BankCustomer</th>\n",
       "      <th>EducationLevel</th>\n",
       "      <th>Ethnicity</th>\n",
       "      <th>YearsEmployed</th>\n",
       "      <th>PriorDefault</th>\n",
       "      <th>Employed</th>\n",
       "      <th>CreditScore</th>\n",
       "      <th>DriversLicense</th>\n",
       "      <th>Citizen</th>\n",
       "      <th>ZipCode</th>\n",
       "      <th>Income</th>\n",
       "      <th>ApprovalStatus</th>\n",
       "    </tr>\n",
       "  </thead>\n",
       "  <tbody>\n",
       "    <tr>\n",
       "      <th>0</th>\n",
       "      <td>b</td>\n",
       "      <td>30.83</td>\n",
       "      <td>0.000</td>\n",
       "      <td>u</td>\n",
       "      <td>g</td>\n",
       "      <td>w</td>\n",
       "      <td>v</td>\n",
       "      <td>1.25</td>\n",
       "      <td>t</td>\n",
       "      <td>t</td>\n",
       "      <td>1</td>\n",
       "      <td>f</td>\n",
       "      <td>g</td>\n",
       "      <td>00202</td>\n",
       "      <td>0</td>\n",
       "      <td>+</td>\n",
       "    </tr>\n",
       "    <tr>\n",
       "      <th>1</th>\n",
       "      <td>a</td>\n",
       "      <td>58.67</td>\n",
       "      <td>4.460</td>\n",
       "      <td>u</td>\n",
       "      <td>g</td>\n",
       "      <td>q</td>\n",
       "      <td>h</td>\n",
       "      <td>3.04</td>\n",
       "      <td>t</td>\n",
       "      <td>t</td>\n",
       "      <td>6</td>\n",
       "      <td>f</td>\n",
       "      <td>g</td>\n",
       "      <td>00043</td>\n",
       "      <td>560</td>\n",
       "      <td>+</td>\n",
       "    </tr>\n",
       "    <tr>\n",
       "      <th>2</th>\n",
       "      <td>a</td>\n",
       "      <td>24.50</td>\n",
       "      <td>0.500</td>\n",
       "      <td>u</td>\n",
       "      <td>g</td>\n",
       "      <td>q</td>\n",
       "      <td>h</td>\n",
       "      <td>1.50</td>\n",
       "      <td>t</td>\n",
       "      <td>f</td>\n",
       "      <td>0</td>\n",
       "      <td>f</td>\n",
       "      <td>g</td>\n",
       "      <td>00280</td>\n",
       "      <td>824</td>\n",
       "      <td>+</td>\n",
       "    </tr>\n",
       "    <tr>\n",
       "      <th>3</th>\n",
       "      <td>b</td>\n",
       "      <td>27.83</td>\n",
       "      <td>1.540</td>\n",
       "      <td>u</td>\n",
       "      <td>g</td>\n",
       "      <td>w</td>\n",
       "      <td>v</td>\n",
       "      <td>3.75</td>\n",
       "      <td>t</td>\n",
       "      <td>t</td>\n",
       "      <td>5</td>\n",
       "      <td>t</td>\n",
       "      <td>g</td>\n",
       "      <td>00100</td>\n",
       "      <td>3</td>\n",
       "      <td>+</td>\n",
       "    </tr>\n",
       "    <tr>\n",
       "      <th>4</th>\n",
       "      <td>b</td>\n",
       "      <td>20.17</td>\n",
       "      <td>5.625</td>\n",
       "      <td>u</td>\n",
       "      <td>g</td>\n",
       "      <td>w</td>\n",
       "      <td>v</td>\n",
       "      <td>1.71</td>\n",
       "      <td>t</td>\n",
       "      <td>f</td>\n",
       "      <td>0</td>\n",
       "      <td>f</td>\n",
       "      <td>s</td>\n",
       "      <td>00120</td>\n",
       "      <td>0</td>\n",
       "      <td>+</td>\n",
       "    </tr>\n",
       "  </tbody>\n",
       "</table>\n",
       "</div>"
      ],
      "text/plain": [
       "  Gender    Age   Debt Married BankCustomer EducationLevel Ethnicity  \\\n",
       "0      b  30.83  0.000       u            g              w         v   \n",
       "1      a  58.67  4.460       u            g              q         h   \n",
       "2      a  24.50  0.500       u            g              q         h   \n",
       "3      b  27.83  1.540       u            g              w         v   \n",
       "4      b  20.17  5.625       u            g              w         v   \n",
       "\n",
       "   YearsEmployed PriorDefault Employed  CreditScore DriversLicense Citizen  \\\n",
       "0           1.25            t        t            1              f       g   \n",
       "1           3.04            t        t            6              f       g   \n",
       "2           1.50            t        f            0              f       g   \n",
       "3           3.75            t        t            5              t       g   \n",
       "4           1.71            t        f            0              f       s   \n",
       "\n",
       "  ZipCode  Income ApprovalStatus  \n",
       "0   00202       0              +  \n",
       "1   00043     560              +  \n",
       "2   00280     824              +  \n",
       "3   00100       3              +  \n",
       "4   00120       0              +  "
      ]
     },
     "execution_count": 7,
     "metadata": {},
     "output_type": "execute_result"
    }
   ],
   "source": [
    "#inspect data\n",
    "cc_apps.head()"
   ]
  },
  {
   "cell_type": "code",
   "execution_count": 8,
   "metadata": {},
   "outputs": [
    {
     "data": {
      "text/plain": [
       "Gender            0\n",
       "Age               0\n",
       "Debt              0\n",
       "Married           0\n",
       "BankCustomer      0\n",
       "EducationLevel    0\n",
       "Ethnicity         0\n",
       "YearsEmployed     0\n",
       "PriorDefault      0\n",
       "Employed          0\n",
       "CreditScore       0\n",
       "DriversLicense    0\n",
       "Citizen           0\n",
       "ZipCode           0\n",
       "Income            0\n",
       "ApprovalStatus    0\n",
       "dtype: int64"
      ]
     },
     "execution_count": 8,
     "metadata": {},
     "output_type": "execute_result"
    }
   ],
   "source": [
    "#check for na values\n",
    "cc_apps.isna().sum()"
   ]
  },
  {
   "cell_type": "code",
   "execution_count": 9,
   "metadata": {},
   "outputs": [
    {
     "name": "stdout",
     "output_type": "stream",
     "text": [
      "<class 'pandas.core.frame.DataFrame'>\n",
      "RangeIndex: 690 entries, 0 to 689\n",
      "Data columns (total 16 columns):\n",
      " #   Column          Non-Null Count  Dtype  \n",
      "---  ------          --------------  -----  \n",
      " 0   Gender          690 non-null    object \n",
      " 1   Age             690 non-null    object \n",
      " 2   Debt            690 non-null    float64\n",
      " 3   Married         690 non-null    object \n",
      " 4   BankCustomer    690 non-null    object \n",
      " 5   EducationLevel  690 non-null    object \n",
      " 6   Ethnicity       690 non-null    object \n",
      " 7   YearsEmployed   690 non-null    float64\n",
      " 8   PriorDefault    690 non-null    object \n",
      " 9   Employed        690 non-null    object \n",
      " 10  CreditScore     690 non-null    int64  \n",
      " 11  DriversLicense  690 non-null    object \n",
      " 12  Citizen         690 non-null    object \n",
      " 13  ZipCode         690 non-null    object \n",
      " 14  Income          690 non-null    int64  \n",
      " 15  ApprovalStatus  690 non-null    object \n",
      "dtypes: float64(2), int64(2), object(12)\n",
      "memory usage: 86.4+ KB\n"
     ]
    }
   ],
   "source": [
    "cc_apps.info()"
   ]
  },
  {
   "cell_type": "code",
   "execution_count": 10,
   "metadata": {},
   "outputs": [
    {
     "data": {
      "text/html": [
       "<div>\n",
       "<style scoped>\n",
       "    .dataframe tbody tr th:only-of-type {\n",
       "        vertical-align: middle;\n",
       "    }\n",
       "\n",
       "    .dataframe tbody tr th {\n",
       "        vertical-align: top;\n",
       "    }\n",
       "\n",
       "    .dataframe thead th {\n",
       "        text-align: right;\n",
       "    }\n",
       "</style>\n",
       "<table border=\"1\" class=\"dataframe\">\n",
       "  <thead>\n",
       "    <tr style=\"text-align: right;\">\n",
       "      <th></th>\n",
       "      <th>Debt</th>\n",
       "      <th>YearsEmployed</th>\n",
       "      <th>CreditScore</th>\n",
       "      <th>Income</th>\n",
       "    </tr>\n",
       "  </thead>\n",
       "  <tbody>\n",
       "    <tr>\n",
       "      <th>count</th>\n",
       "      <td>690.000000</td>\n",
       "      <td>690.000000</td>\n",
       "      <td>690.00000</td>\n",
       "      <td>690.000000</td>\n",
       "    </tr>\n",
       "    <tr>\n",
       "      <th>mean</th>\n",
       "      <td>4.758725</td>\n",
       "      <td>2.223406</td>\n",
       "      <td>2.40000</td>\n",
       "      <td>1017.385507</td>\n",
       "    </tr>\n",
       "    <tr>\n",
       "      <th>std</th>\n",
       "      <td>4.978163</td>\n",
       "      <td>3.346513</td>\n",
       "      <td>4.86294</td>\n",
       "      <td>5210.102598</td>\n",
       "    </tr>\n",
       "    <tr>\n",
       "      <th>min</th>\n",
       "      <td>0.000000</td>\n",
       "      <td>0.000000</td>\n",
       "      <td>0.00000</td>\n",
       "      <td>0.000000</td>\n",
       "    </tr>\n",
       "    <tr>\n",
       "      <th>25%</th>\n",
       "      <td>1.000000</td>\n",
       "      <td>0.165000</td>\n",
       "      <td>0.00000</td>\n",
       "      <td>0.000000</td>\n",
       "    </tr>\n",
       "    <tr>\n",
       "      <th>50%</th>\n",
       "      <td>2.750000</td>\n",
       "      <td>1.000000</td>\n",
       "      <td>0.00000</td>\n",
       "      <td>5.000000</td>\n",
       "    </tr>\n",
       "    <tr>\n",
       "      <th>75%</th>\n",
       "      <td>7.207500</td>\n",
       "      <td>2.625000</td>\n",
       "      <td>3.00000</td>\n",
       "      <td>395.500000</td>\n",
       "    </tr>\n",
       "    <tr>\n",
       "      <th>max</th>\n",
       "      <td>28.000000</td>\n",
       "      <td>28.500000</td>\n",
       "      <td>67.00000</td>\n",
       "      <td>100000.000000</td>\n",
       "    </tr>\n",
       "  </tbody>\n",
       "</table>\n",
       "</div>"
      ],
      "text/plain": [
       "             Debt  YearsEmployed  CreditScore         Income\n",
       "count  690.000000     690.000000    690.00000     690.000000\n",
       "mean     4.758725       2.223406      2.40000    1017.385507\n",
       "std      4.978163       3.346513      4.86294    5210.102598\n",
       "min      0.000000       0.000000      0.00000       0.000000\n",
       "25%      1.000000       0.165000      0.00000       0.000000\n",
       "50%      2.750000       1.000000      0.00000       5.000000\n",
       "75%      7.207500       2.625000      3.00000     395.500000\n",
       "max     28.000000      28.500000     67.00000  100000.000000"
      ]
     },
     "execution_count": 10,
     "metadata": {},
     "output_type": "execute_result"
    }
   ],
   "source": [
    "#summary stats\n",
    "cc_apps.describe()"
   ]
  },
  {
   "cell_type": "markdown",
   "metadata": {},
   "source": [
    "## Inspecting and cleaning data"
   ]
  },
  {
   "cell_type": "code",
   "execution_count": 11,
   "metadata": {},
   "outputs": [
    {
     "data": {
      "text/plain": [
       "Gender             object\n",
       "Age                object\n",
       "Debt              float64\n",
       "Married            object\n",
       "BankCustomer       object\n",
       "EducationLevel     object\n",
       "Ethnicity          object\n",
       "YearsEmployed     float64\n",
       "PriorDefault       object\n",
       "Employed           object\n",
       "CreditScore         int64\n",
       "DriversLicense     object\n",
       "Citizen            object\n",
       "ZipCode            object\n",
       "Income              int64\n",
       "ApprovalStatus     object\n",
       "dtype: object"
      ]
     },
     "execution_count": 11,
     "metadata": {},
     "output_type": "execute_result"
    }
   ],
   "source": [
    "cc_apps.dtypes"
   ]
  },
  {
   "cell_type": "code",
   "execution_count": 12,
   "metadata": {},
   "outputs": [
    {
     "name": "stdout",
     "output_type": "stream",
     "text": [
      "----Gender----\n",
      "b    468\n",
      "a    210\n",
      "?     12\n",
      "Name: Gender, dtype: int64\n",
      "\n",
      "\n",
      "----Married----\n",
      "u    519\n",
      "y    163\n",
      "?      6\n",
      "l      2\n",
      "Name: Married, dtype: int64\n",
      "\n",
      "\n",
      "----BankCustomer----\n",
      "g     519\n",
      "p     163\n",
      "?       6\n",
      "gg      2\n",
      "Name: BankCustomer, dtype: int64\n",
      "\n",
      "\n",
      "----EducationLevel----\n",
      "c     137\n",
      "q      78\n",
      "w      64\n",
      "i      59\n",
      "aa     54\n",
      "ff     53\n",
      "k      51\n",
      "cc     41\n",
      "x      38\n",
      "m      38\n",
      "d      30\n",
      "e      25\n",
      "j      10\n",
      "?       9\n",
      "r       3\n",
      "Name: EducationLevel, dtype: int64\n",
      "\n",
      "\n",
      "----Ethnicity----\n",
      "v     399\n",
      "h     138\n",
      "bb     59\n",
      "ff     57\n",
      "?       9\n",
      "z       8\n",
      "j       8\n",
      "dd      6\n",
      "n       4\n",
      "o       2\n",
      "Name: Ethnicity, dtype: int64\n",
      "\n",
      "\n",
      "----PriorDefault----\n",
      "t    361\n",
      "f    329\n",
      "Name: PriorDefault, dtype: int64\n",
      "\n",
      "\n",
      "----Employed----\n",
      "f    395\n",
      "t    295\n",
      "Name: Employed, dtype: int64\n",
      "\n",
      "\n",
      "----DriversLicense----\n",
      "f    374\n",
      "t    316\n",
      "Name: DriversLicense, dtype: int64\n",
      "\n",
      "\n",
      "----Citizen----\n",
      "g    625\n",
      "s     57\n",
      "p      8\n",
      "Name: Citizen, dtype: int64\n",
      "\n",
      "\n",
      "----ApprovalStatus----\n",
      "-    383\n",
      "+    307\n",
      "Name: ApprovalStatus, dtype: int64\n",
      "\n",
      "\n"
     ]
    }
   ],
   "source": [
    "for c in cc_apps.loc[:, cc_apps.dtypes == np.object].drop(['Age', 'ZipCode'], axis = 1).columns:\n",
    "    print(\"----{}----\".format(c))\n",
    "    print(cc_apps[c].value_counts())\n",
    "    print(\"\\n\")"
   ]
  },
  {
   "cell_type": "markdown",
   "metadata": {},
   "source": [
    "#### We observe from the value_counts that some of the object columns have \"?\" as their values. We will deal with this by converting them to np.nan "
   ]
  },
  {
   "cell_type": "code",
   "execution_count": 13,
   "metadata": {},
   "outputs": [],
   "source": [
    "#Replace the '?' with Nan\n",
    "cc_apps = cc_apps.replace({\"--\" : np.nan, '?' : np.nan})"
   ]
  },
  {
   "cell_type": "markdown",
   "metadata": {},
   "source": [
    "#### Also, Age and Zipcode are of datatypes object but they should be numerical datatypes "
   ]
  },
  {
   "cell_type": "code",
   "execution_count": 14,
   "metadata": {},
   "outputs": [],
   "source": [
    "cc_apps['Age'] = cc_apps['Age'].astype('float')\n",
    "cc_apps['ZipCode'] = cc_apps['ZipCode'].astype('float')"
   ]
  },
  {
   "cell_type": "code",
   "execution_count": 15,
   "metadata": {},
   "outputs": [],
   "source": [
    "#filling missing values \n",
    "for col in cc_apps.columns:\n",
    "    if cc_apps[col].dtype.name in ['int', 'float64']:\n",
    "        cc_apps[col] = cc_apps[col].fillna(cc_apps[col].median())"
   ]
  },
  {
   "cell_type": "markdown",
   "metadata": {},
   "source": [
    "#### We replaced the NA values in all of our numerical columns with thier median values"
   ]
  },
  {
   "cell_type": "code",
   "execution_count": 16,
   "metadata": {},
   "outputs": [],
   "source": [
    "cc_apps['ZipCode'] = cc_apps['ZipCode'].astype('int').astype('category')"
   ]
  },
  {
   "cell_type": "code",
   "execution_count": 17,
   "metadata": {},
   "outputs": [
    {
     "data": {
      "text/plain": [
       "0      132\n",
       "160     47\n",
       "120     35\n",
       "200     35\n",
       "80      30\n",
       "Name: ZipCode, dtype: int64"
      ]
     },
     "execution_count": 17,
     "metadata": {},
     "output_type": "execute_result"
    }
   ],
   "source": [
    "cc_apps['ZipCode'].value_counts().head()"
   ]
  },
  {
   "cell_type": "code",
   "execution_count": 18,
   "metadata": {},
   "outputs": [
    {
     "data": {
      "text/plain": [
       "Gender            12\n",
       "Age                0\n",
       "Debt               0\n",
       "Married            6\n",
       "BankCustomer       6\n",
       "EducationLevel     9\n",
       "Ethnicity          9\n",
       "YearsEmployed      0\n",
       "PriorDefault       0\n",
       "Employed           0\n",
       "CreditScore        0\n",
       "DriversLicense     0\n",
       "Citizen            0\n",
       "ZipCode            0\n",
       "Income             0\n",
       "ApprovalStatus     0\n",
       "dtype: int64"
      ]
     },
     "execution_count": 18,
     "metadata": {},
     "output_type": "execute_result"
    }
   ],
   "source": [
    "cc_apps.isna().sum()"
   ]
  },
  {
   "cell_type": "code",
   "execution_count": 19,
   "metadata": {},
   "outputs": [
    {
     "data": {
      "text/plain": [
       "Gender              object\n",
       "Age                float64\n",
       "Debt               float64\n",
       "Married             object\n",
       "BankCustomer        object\n",
       "EducationLevel      object\n",
       "Ethnicity           object\n",
       "YearsEmployed      float64\n",
       "PriorDefault        object\n",
       "Employed            object\n",
       "CreditScore          int64\n",
       "DriversLicense      object\n",
       "Citizen             object\n",
       "ZipCode           category\n",
       "Income               int64\n",
       "ApprovalStatus      object\n",
       "dtype: object"
      ]
     },
     "execution_count": 19,
     "metadata": {},
     "output_type": "execute_result"
    }
   ],
   "source": [
    "cc_apps.dtypes"
   ]
  },
  {
   "cell_type": "code",
   "execution_count": null,
   "metadata": {},
   "outputs": [],
   "source": []
  },
  {
   "cell_type": "markdown",
   "metadata": {},
   "source": [
    "#### We will convert then nan in the object columns with the most frequent values: "
   ]
  },
  {
   "cell_type": "code",
   "execution_count": 20,
   "metadata": {},
   "outputs": [],
   "source": [
    "for col in cc_apps.columns:\n",
    "    if cc_apps[col].dtype.name == 'object':\n",
    "        #impute with the most frequent value\n",
    "        cc_apps[col] = cc_apps[col].fillna(cc_apps[col].value_counts().idxmax())"
   ]
  },
  {
   "cell_type": "markdown",
   "metadata": {},
   "source": [
    "#### check again for missing value"
   ]
  },
  {
   "cell_type": "code",
   "execution_count": 21,
   "metadata": {},
   "outputs": [
    {
     "data": {
      "text/plain": [
       "Gender            0\n",
       "Age               0\n",
       "Debt              0\n",
       "Married           0\n",
       "BankCustomer      0\n",
       "EducationLevel    0\n",
       "Ethnicity         0\n",
       "YearsEmployed     0\n",
       "PriorDefault      0\n",
       "Employed          0\n",
       "CreditScore       0\n",
       "DriversLicense    0\n",
       "Citizen           0\n",
       "ZipCode           0\n",
       "Income            0\n",
       "ApprovalStatus    0\n",
       "dtype: int64"
      ]
     },
     "execution_count": 21,
     "metadata": {},
     "output_type": "execute_result"
    }
   ],
   "source": [
    "cc_apps.isna().sum()"
   ]
  },
  {
   "cell_type": "markdown",
   "metadata": {},
   "source": [
    "#### check if the ? in the missing value is now updated to the most frequent value"
   ]
  },
  {
   "cell_type": "code",
   "execution_count": 22,
   "metadata": {},
   "outputs": [
    {
     "name": "stdout",
     "output_type": "stream",
     "text": [
      "----Gender----\n",
      "b    480\n",
      "a    210\n",
      "Name: Gender, dtype: int64\n",
      "\n",
      "\n",
      "----Married----\n",
      "u    525\n",
      "y    163\n",
      "l      2\n",
      "Name: Married, dtype: int64\n",
      "\n",
      "\n",
      "----BankCustomer----\n",
      "g     525\n",
      "p     163\n",
      "gg      2\n",
      "Name: BankCustomer, dtype: int64\n",
      "\n",
      "\n",
      "----EducationLevel----\n",
      "c     146\n",
      "q      78\n",
      "w      64\n",
      "i      59\n",
      "aa     54\n",
      "ff     53\n",
      "k      51\n",
      "cc     41\n",
      "x      38\n",
      "m      38\n",
      "d      30\n",
      "e      25\n",
      "j      10\n",
      "r       3\n",
      "Name: EducationLevel, dtype: int64\n",
      "\n",
      "\n",
      "----Ethnicity----\n",
      "v     408\n",
      "h     138\n",
      "bb     59\n",
      "ff     57\n",
      "z       8\n",
      "j       8\n",
      "dd      6\n",
      "n       4\n",
      "o       2\n",
      "Name: Ethnicity, dtype: int64\n",
      "\n",
      "\n",
      "----PriorDefault----\n",
      "t    361\n",
      "f    329\n",
      "Name: PriorDefault, dtype: int64\n",
      "\n",
      "\n",
      "----Employed----\n",
      "f    395\n",
      "t    295\n",
      "Name: Employed, dtype: int64\n",
      "\n",
      "\n",
      "----DriversLicense----\n",
      "f    374\n",
      "t    316\n",
      "Name: DriversLicense, dtype: int64\n",
      "\n",
      "\n",
      "----Citizen----\n",
      "g    625\n",
      "s     57\n",
      "p      8\n",
      "Name: Citizen, dtype: int64\n",
      "\n",
      "\n",
      "----ApprovalStatus----\n",
      "-    383\n",
      "+    307\n",
      "Name: ApprovalStatus, dtype: int64\n",
      "\n",
      "\n"
     ]
    }
   ],
   "source": [
    "for c in cc_apps.loc[:, cc_apps.dtypes == np.object].columns:\n",
    "    print(\"----{}----\".format(c))\n",
    "    print(cc_apps[c].value_counts())\n",
    "    print(\"\\n\")"
   ]
  },
  {
   "cell_type": "markdown",
   "metadata": {},
   "source": [
    "#### Check for any duplicated values:"
   ]
  },
  {
   "cell_type": "code",
   "execution_count": 23,
   "metadata": {},
   "outputs": [
    {
     "name": "stdout",
     "output_type": "stream",
     "text": [
      "Empty DataFrame\n",
      "Columns: [Gender, Age, Debt, Married, BankCustomer, EducationLevel, Ethnicity, YearsEmployed, PriorDefault, Employed, CreditScore, DriversLicense, Citizen, ZipCode, Income, ApprovalStatus]\n",
      "Index: []\n"
     ]
    }
   ],
   "source": [
    "print(cc_apps[cc_apps.duplicated() == True])"
   ]
  },
  {
   "cell_type": "markdown",
   "metadata": {},
   "source": [
    "#### There are no duplicated rows in this dataset"
   ]
  },
  {
   "cell_type": "code",
   "execution_count": 24,
   "metadata": {},
   "outputs": [
    {
     "data": {
      "text/plain": [
       "-    383\n",
       "+    307\n",
       "Name: ApprovalStatus, dtype: int64"
      ]
     },
     "execution_count": 24,
     "metadata": {},
     "output_type": "execute_result"
    }
   ],
   "source": [
    "cc_apps['ApprovalStatus'].value_counts()"
   ]
  },
  {
   "cell_type": "markdown",
   "metadata": {},
   "source": [
    "#### Since this dataset is confidential, some of the column values was changed. To help make sense of the data, I will be making general changes to some of the column values in order to help with exploratory data analysis. \n",
    "#### First, conversion of some of the values in our independent columns. The gender will be changed from b and a to male and female. The PriorDefault, Employed, and DriversLicense columns will be changed from t and f to yes and no. We will convert BankCustomer column from the values g, p, gg to yes, no, unknown. Also, the values for married column will be converted from u, y, l to  married, unmarried, unknown "
   ]
  },
  {
   "cell_type": "code",
   "execution_count": 25,
   "metadata": {},
   "outputs": [],
   "source": [
    "cc_apps[['Employed', 'DriversLicense']] = cc_apps[['Employed', 'DriversLicense']].replace({'f': 'no', 't': 'yes'})"
   ]
  },
  {
   "cell_type": "code",
   "execution_count": 26,
   "metadata": {},
   "outputs": [],
   "source": [
    "cc_apps['PriorDefault'] = cc_apps['PriorDefault'].replace({'yes' : 'no', 'no' : 'yes'})"
   ]
  },
  {
   "cell_type": "code",
   "execution_count": 27,
   "metadata": {},
   "outputs": [],
   "source": [
    "cc_apps['BankCustomer'] = cc_apps['BankCustomer'].replace({'g': 'yes', 'p' : 'no', 'gg' : 'unknown'})"
   ]
  },
  {
   "cell_type": "code",
   "execution_count": 28,
   "metadata": {},
   "outputs": [],
   "source": [
    "cc_apps['Married'] = cc_apps['Married'].replace({'u': 'married', 'y' : 'single', 'l' : 'unknown'})"
   ]
  },
  {
   "cell_type": "markdown",
   "metadata": {},
   "source": [
    "#### Conversion of the values in our dependent variable *ApprovalStatus* from + and - to 1 and 0 respectively:"
   ]
  },
  {
   "cell_type": "code",
   "execution_count": 29,
   "metadata": {},
   "outputs": [],
   "source": [
    "cc_apps['ApprovalStatus'] = cc_apps['ApprovalStatus'].replace({'+': 1, '-': 0})"
   ]
  },
  {
   "cell_type": "markdown",
   "metadata": {},
   "source": [
    "#### 1 means they were approved a credit card. 0 means they werent approved"
   ]
  },
  {
   "cell_type": "markdown",
   "metadata": {},
   "source": [
    "## Exploratory data visualization"
   ]
  },
  {
   "cell_type": "code",
   "execution_count": 30,
   "metadata": {},
   "outputs": [
    {
     "data": {
      "text/html": [
       "<div>\n",
       "<style scoped>\n",
       "    .dataframe tbody tr th:only-of-type {\n",
       "        vertical-align: middle;\n",
       "    }\n",
       "\n",
       "    .dataframe tbody tr th {\n",
       "        vertical-align: top;\n",
       "    }\n",
       "\n",
       "    .dataframe thead th {\n",
       "        text-align: right;\n",
       "    }\n",
       "</style>\n",
       "<table border=\"1\" class=\"dataframe\">\n",
       "  <thead>\n",
       "    <tr style=\"text-align: right;\">\n",
       "      <th></th>\n",
       "      <th>Gender</th>\n",
       "      <th>Age</th>\n",
       "      <th>Debt</th>\n",
       "      <th>Married</th>\n",
       "      <th>BankCustomer</th>\n",
       "      <th>EducationLevel</th>\n",
       "      <th>Ethnicity</th>\n",
       "      <th>YearsEmployed</th>\n",
       "      <th>PriorDefault</th>\n",
       "      <th>Employed</th>\n",
       "      <th>CreditScore</th>\n",
       "      <th>DriversLicense</th>\n",
       "      <th>Citizen</th>\n",
       "      <th>ZipCode</th>\n",
       "      <th>Income</th>\n",
       "      <th>ApprovalStatus</th>\n",
       "    </tr>\n",
       "  </thead>\n",
       "  <tbody>\n",
       "    <tr>\n",
       "      <th>0</th>\n",
       "      <td>b</td>\n",
       "      <td>30.83</td>\n",
       "      <td>0.000</td>\n",
       "      <td>married</td>\n",
       "      <td>yes</td>\n",
       "      <td>w</td>\n",
       "      <td>v</td>\n",
       "      <td>1.25</td>\n",
       "      <td>t</td>\n",
       "      <td>yes</td>\n",
       "      <td>1</td>\n",
       "      <td>no</td>\n",
       "      <td>g</td>\n",
       "      <td>202</td>\n",
       "      <td>0</td>\n",
       "      <td>1</td>\n",
       "    </tr>\n",
       "    <tr>\n",
       "      <th>1</th>\n",
       "      <td>a</td>\n",
       "      <td>58.67</td>\n",
       "      <td>4.460</td>\n",
       "      <td>married</td>\n",
       "      <td>yes</td>\n",
       "      <td>q</td>\n",
       "      <td>h</td>\n",
       "      <td>3.04</td>\n",
       "      <td>t</td>\n",
       "      <td>yes</td>\n",
       "      <td>6</td>\n",
       "      <td>no</td>\n",
       "      <td>g</td>\n",
       "      <td>43</td>\n",
       "      <td>560</td>\n",
       "      <td>1</td>\n",
       "    </tr>\n",
       "    <tr>\n",
       "      <th>2</th>\n",
       "      <td>a</td>\n",
       "      <td>24.50</td>\n",
       "      <td>0.500</td>\n",
       "      <td>married</td>\n",
       "      <td>yes</td>\n",
       "      <td>q</td>\n",
       "      <td>h</td>\n",
       "      <td>1.50</td>\n",
       "      <td>t</td>\n",
       "      <td>no</td>\n",
       "      <td>0</td>\n",
       "      <td>no</td>\n",
       "      <td>g</td>\n",
       "      <td>280</td>\n",
       "      <td>824</td>\n",
       "      <td>1</td>\n",
       "    </tr>\n",
       "    <tr>\n",
       "      <th>3</th>\n",
       "      <td>b</td>\n",
       "      <td>27.83</td>\n",
       "      <td>1.540</td>\n",
       "      <td>married</td>\n",
       "      <td>yes</td>\n",
       "      <td>w</td>\n",
       "      <td>v</td>\n",
       "      <td>3.75</td>\n",
       "      <td>t</td>\n",
       "      <td>yes</td>\n",
       "      <td>5</td>\n",
       "      <td>yes</td>\n",
       "      <td>g</td>\n",
       "      <td>100</td>\n",
       "      <td>3</td>\n",
       "      <td>1</td>\n",
       "    </tr>\n",
       "    <tr>\n",
       "      <th>4</th>\n",
       "      <td>b</td>\n",
       "      <td>20.17</td>\n",
       "      <td>5.625</td>\n",
       "      <td>married</td>\n",
       "      <td>yes</td>\n",
       "      <td>w</td>\n",
       "      <td>v</td>\n",
       "      <td>1.71</td>\n",
       "      <td>t</td>\n",
       "      <td>no</td>\n",
       "      <td>0</td>\n",
       "      <td>no</td>\n",
       "      <td>s</td>\n",
       "      <td>120</td>\n",
       "      <td>0</td>\n",
       "      <td>1</td>\n",
       "    </tr>\n",
       "  </tbody>\n",
       "</table>\n",
       "</div>"
      ],
      "text/plain": [
       "  Gender    Age   Debt  Married BankCustomer EducationLevel Ethnicity  \\\n",
       "0      b  30.83  0.000  married          yes              w         v   \n",
       "1      a  58.67  4.460  married          yes              q         h   \n",
       "2      a  24.50  0.500  married          yes              q         h   \n",
       "3      b  27.83  1.540  married          yes              w         v   \n",
       "4      b  20.17  5.625  married          yes              w         v   \n",
       "\n",
       "   YearsEmployed PriorDefault Employed  CreditScore DriversLicense Citizen  \\\n",
       "0           1.25            t      yes            1             no       g   \n",
       "1           3.04            t      yes            6             no       g   \n",
       "2           1.50            t       no            0             no       g   \n",
       "3           3.75            t      yes            5            yes       g   \n",
       "4           1.71            t       no            0             no       s   \n",
       "\n",
       "  ZipCode  Income  ApprovalStatus  \n",
       "0     202       0               1  \n",
       "1      43     560               1  \n",
       "2     280     824               1  \n",
       "3     100       3               1  \n",
       "4     120       0               1  "
      ]
     },
     "execution_count": 30,
     "metadata": {},
     "output_type": "execute_result"
    }
   ],
   "source": [
    "cc_apps.head()"
   ]
  },
  {
   "cell_type": "markdown",
   "metadata": {},
   "source": [
    "#### How many people were approved and how many werent?:"
   ]
  },
  {
   "cell_type": "code",
   "execution_count": 31,
   "metadata": {},
   "outputs": [],
   "source": [
    "sns.set_style('whitegrid')"
   ]
  },
  {
   "cell_type": "code",
   "execution_count": 32,
   "metadata": {},
   "outputs": [
    {
     "data": {
      "text/plain": [
       "<matplotlib.axes._subplots.AxesSubplot at 0x1a1c5d29d0>"
      ]
     },
     "execution_count": 32,
     "metadata": {},
     "output_type": "execute_result"
    },
    {
     "data": {
      "image/png": "[encoded data removed]",
      "text/plain": [
       "<Figure size 576x432 with 1 Axes>"
      ]
     },
     "metadata": {},
     "output_type": "display_data"
    }
   ],
   "source": [
    "plt.figure(figsize = (8, 6))\n",
    "sns.countplot(cc_apps['ApprovalStatus'])"
   ]
  },
  {
   "cell_type": "markdown",
   "metadata": {},
   "source": [
    "#### From the figure above, just over 380 people got denied a credit card and 307 got approved of a credit card"
   ]
  },
  {
   "cell_type": "markdown",
   "metadata": {},
   "source": [
    "#### How is the age distribution of the participants in this data?"
   ]
  },
  {
   "cell_type": "code",
   "execution_count": 33,
   "metadata": {},
   "outputs": [
    {
     "data": {
      "text/plain": [
       "Text(0, 0.5, 'Frequency')"
      ]
     },
     "execution_count": 33,
     "metadata": {},
     "output_type": "execute_result"
    },
    {
     "data": {
      "image/png": "[encoded data removed]",
      "text/plain": [
       "<Figure size 576x432 with 1 Axes>"
      ]
     },
     "metadata": {},
     "output_type": "display_data"
    }
   ],
   "source": [
    "plt.figure(figsize = (8, 6))\n",
    "cc_apps['Age'].plot(kind = 'hist', bins = 50)\n",
    "plt.xlabel('Age', fontsize = 15)\n",
    "plt.ylabel('Frequency', fontsize = 15)"
   ]
  },
  {
   "cell_type": "code",
   "execution_count": 34,
   "metadata": {},
   "outputs": [
    {
     "name": "stdout",
     "output_type": "stream",
     "text": [
      "80.25\n"
     ]
    },
    {
     "data": {
      "text/plain": [
       "13.75"
      ]
     },
     "execution_count": 34,
     "metadata": {},
     "output_type": "execute_result"
    }
   ],
   "source": [
    "print(cc_apps['Age'].max())\n",
    "cc_apps['Age'].min()"
   ]
  },
  {
   "cell_type": "markdown",
   "metadata": {},
   "source": [
    "#### Create an Age_group column from the Age column to help understand the data"
   ]
  },
  {
   "cell_type": "code",
   "execution_count": 35,
   "metadata": {},
   "outputs": [],
   "source": [
    "age_group = ['13-25', '25-50', '50+']\n",
    "#creates age groups \n",
    "cc_apps['Age_group'] = pd.qcut(cc_apps['Age'], q = 3, labels = age_group)"
   ]
  },
  {
   "cell_type": "code",
   "execution_count": 36,
   "metadata": {},
   "outputs": [
    {
     "data": {
      "text/plain": [
       "Text(0.5, 0, 'Age_group')"
      ]
     },
     "execution_count": 36,
     "metadata": {},
     "output_type": "execute_result"
    },
    {
     "data": {
      "image/png": "[encoded data removed]",
      "text/plain": [
       "<Figure size 576x432 with 1 Axes>"
      ]
     },
     "metadata": {},
     "output_type": "display_data"
    }
   ],
   "source": [
    "pd.pivot_table(data = cc_apps, index = ['Age_group'], columns = 'ApprovalStatus', aggfunc='size', fill_value=0).plot(kind = 'bar', figsize = (8,6))\n",
    "plt.xlabel('Age_group', fontsize = 15)\n",
    "#cc_apps.groupby(['Age_group', 'ApprovalStatus'])['ApprovalStatus'].count().unstack('ApprovalStatus').plot(kind = 'bar')"
   ]
  },
  {
   "cell_type": "markdown",
   "metadata": {},
   "source": [
    "#### From the figure above, majority of the individuals that applied for credit card are within the age group 13-25 and 25-50. More people above 50 got approved of a credit card. "
   ]
  },
  {
   "cell_type": "markdown",
   "metadata": {},
   "source": [
    "#### How does current job employment affect credit card approval?"
   ]
  },
  {
   "cell_type": "code",
   "execution_count": 37,
   "metadata": {},
   "outputs": [
    {
     "data": {
      "text/plain": [
       "Text(0.5, 0, 'Employed')"
      ]
     },
     "execution_count": 37,
     "metadata": {},
     "output_type": "execute_result"
    },
    {
     "data": {
      "image/png": "[encoded data removed]",
      "text/plain": [
       "<Figure size 576x432 with 1 Axes>"
      ]
     },
     "metadata": {},
     "output_type": "display_data"
    }
   ],
   "source": [
    "cc_apps.groupby(['Employed', 'ApprovalStatus'])['ApprovalStatus'].count().unstack('ApprovalStatus').fillna(0).plot(kind = 'bar', figsize = (8,6))\n",
    "plt.xlabel('Employed', fontsize = 15)"
   ]
  },
  {
   "cell_type": "markdown",
   "metadata": {},
   "source": [
    "#### From the figure above, majority of the indidual who got approved of a credit card were employed or had a job "
   ]
  },
  {
   "cell_type": "markdown",
   "metadata": {},
   "source": [
    "#### How does Credit score and Income affect credit card approval?"
   ]
  },
  {
   "cell_type": "code",
   "execution_count": 38,
   "metadata": {},
   "outputs": [
    {
     "data": {
      "text/plain": [
       "Text(35.377170138888886, 0.5, 'Income')"
      ]
     },
     "execution_count": 38,
     "metadata": {},
     "output_type": "execute_result"
    },
    {
     "data": {
      "image/png": "[encoded data removed]",
      "text/plain": [
       "<Figure size 536.25x864 with 2 Axes>"
      ]
     },
     "metadata": {},
     "output_type": "display_data"
    }
   ],
   "source": [
    "sns.relplot(x='CreditScore', y = 'Income', hue = 'ApprovalStatus',  data = cc_apps, height = 6, aspect = 1, row = 'PriorDefault')\n",
    "plt.xlabel('CreditScore', fontsize = 15)\n",
    "plt.ylabel('Income', fontsize = 15)"
   ]
  },
  {
   "cell_type": "markdown",
   "metadata": {},
   "source": [
    "#### From the figure above, we deduce that individuals with high income and/or high credit score are likely to be approved to a credit card. However, the most important feature that separates the dependendent variable - ApprovalStatus is PriorDefault. The figure shows that most people with PriorDefault are denied a credit card. "
   ]
  },
  {
   "cell_type": "markdown",
   "metadata": {},
   "source": [
    "## Data Preprocessing"
   ]
  },
  {
   "cell_type": "markdown",
   "metadata": {},
   "source": [
    "#### 1. Convert the non-mumeric data into numeric"
   ]
  },
  {
   "cell_type": "code",
   "execution_count": 39,
   "metadata": {},
   "outputs": [
    {
     "name": "stdout",
     "output_type": "stream",
     "text": [
      "<class 'pandas.core.frame.DataFrame'>\n",
      "RangeIndex: 690 entries, 0 to 689\n",
      "Data columns (total 17 columns):\n",
      " #   Column          Non-Null Count  Dtype   \n",
      "---  ------          --------------  -----   \n",
      " 0   Gender          690 non-null    object  \n",
      " 1   Age             690 non-null    float64 \n",
      " 2   Debt            690 non-null    float64 \n",
      " 3   Married         690 non-null    object  \n",
      " 4   BankCustomer    690 non-null    object  \n",
      " 5   EducationLevel  690 non-null    object  \n",
      " 6   Ethnicity       690 non-null    object  \n",
      " 7   YearsEmployed   690 non-null    float64 \n",
      " 8   PriorDefault    690 non-null    object  \n",
      " 9   Employed        690 non-null    object  \n",
      " 10  CreditScore     690 non-null    int64   \n",
      " 11  DriversLicense  690 non-null    object  \n",
      " 12  Citizen         690 non-null    object  \n",
      " 13  ZipCode         690 non-null    category\n",
      " 14  Income          690 non-null    int64   \n",
      " 15  ApprovalStatus  690 non-null    int64   \n",
      " 16  Age_group       690 non-null    category\n",
      "dtypes: category(2), float64(3), int64(3), object(9)\n",
      "memory usage: 89.4+ KB\n"
     ]
    }
   ],
   "source": [
    "cc_apps.info()"
   ]
  },
  {
   "cell_type": "markdown",
   "metadata": {},
   "source": [
    "#### Here, we will use pd.get_dummies to convert all of our categorical columns into numeric columns. We could also use OneHotEncoder from Sklearn.preprocessing"
   ]
  },
  {
   "cell_type": "code",
   "execution_count": 40,
   "metadata": {},
   "outputs": [],
   "source": [
    "cc_apps_new_df = pd.get_dummies(data = cc_apps, columns = ['Gender', 'Married', 'BankCustomer', 'EducationLevel', 'Ethnicity', 'PriorDefault', 'Employed', 'Citizen', 'DriversLicense', 'Age_group'], drop_first = True )"
   ]
  },
  {
   "cell_type": "code",
   "execution_count": 41,
   "metadata": {},
   "outputs": [
    {
     "data": {
      "text/html": [
       "<div>\n",
       "<style scoped>\n",
       "    .dataframe tbody tr th:only-of-type {\n",
       "        vertical-align: middle;\n",
       "    }\n",
       "\n",
       "    .dataframe tbody tr th {\n",
       "        vertical-align: top;\n",
       "    }\n",
       "\n",
       "    .dataframe thead th {\n",
       "        text-align: right;\n",
       "    }\n",
       "</style>\n",
       "<table border=\"1\" class=\"dataframe\">\n",
       "  <thead>\n",
       "    <tr style=\"text-align: right;\">\n",
       "      <th></th>\n",
       "      <th>Age</th>\n",
       "      <th>Debt</th>\n",
       "      <th>YearsEmployed</th>\n",
       "      <th>CreditScore</th>\n",
       "      <th>ZipCode</th>\n",
       "      <th>Income</th>\n",
       "      <th>ApprovalStatus</th>\n",
       "      <th>Gender_b</th>\n",
       "      <th>Married_single</th>\n",
       "      <th>Married_unknown</th>\n",
       "      <th>...</th>\n",
       "      <th>Ethnicity_o</th>\n",
       "      <th>Ethnicity_v</th>\n",
       "      <th>Ethnicity_z</th>\n",
       "      <th>PriorDefault_t</th>\n",
       "      <th>Employed_yes</th>\n",
       "      <th>Citizen_p</th>\n",
       "      <th>Citizen_s</th>\n",
       "      <th>DriversLicense_yes</th>\n",
       "      <th>Age_group_25-50</th>\n",
       "      <th>Age_group_50+</th>\n",
       "    </tr>\n",
       "  </thead>\n",
       "  <tbody>\n",
       "    <tr>\n",
       "      <th>0</th>\n",
       "      <td>30.83</td>\n",
       "      <td>0.000</td>\n",
       "      <td>1.25</td>\n",
       "      <td>1</td>\n",
       "      <td>202</td>\n",
       "      <td>0</td>\n",
       "      <td>1</td>\n",
       "      <td>1</td>\n",
       "      <td>0</td>\n",
       "      <td>0</td>\n",
       "      <td>...</td>\n",
       "      <td>0</td>\n",
       "      <td>1</td>\n",
       "      <td>0</td>\n",
       "      <td>1</td>\n",
       "      <td>1</td>\n",
       "      <td>0</td>\n",
       "      <td>0</td>\n",
       "      <td>0</td>\n",
       "      <td>1</td>\n",
       "      <td>0</td>\n",
       "    </tr>\n",
       "    <tr>\n",
       "      <th>1</th>\n",
       "      <td>58.67</td>\n",
       "      <td>4.460</td>\n",
       "      <td>3.04</td>\n",
       "      <td>6</td>\n",
       "      <td>43</td>\n",
       "      <td>560</td>\n",
       "      <td>1</td>\n",
       "      <td>0</td>\n",
       "      <td>0</td>\n",
       "      <td>0</td>\n",
       "      <td>...</td>\n",
       "      <td>0</td>\n",
       "      <td>0</td>\n",
       "      <td>0</td>\n",
       "      <td>1</td>\n",
       "      <td>1</td>\n",
       "      <td>0</td>\n",
       "      <td>0</td>\n",
       "      <td>0</td>\n",
       "      <td>0</td>\n",
       "      <td>1</td>\n",
       "    </tr>\n",
       "    <tr>\n",
       "      <th>2</th>\n",
       "      <td>24.50</td>\n",
       "      <td>0.500</td>\n",
       "      <td>1.50</td>\n",
       "      <td>0</td>\n",
       "      <td>280</td>\n",
       "      <td>824</td>\n",
       "      <td>1</td>\n",
       "      <td>0</td>\n",
       "      <td>0</td>\n",
       "      <td>0</td>\n",
       "      <td>...</td>\n",
       "      <td>0</td>\n",
       "      <td>0</td>\n",
       "      <td>0</td>\n",
       "      <td>1</td>\n",
       "      <td>0</td>\n",
       "      <td>0</td>\n",
       "      <td>0</td>\n",
       "      <td>0</td>\n",
       "      <td>1</td>\n",
       "      <td>0</td>\n",
       "    </tr>\n",
       "    <tr>\n",
       "      <th>3</th>\n",
       "      <td>27.83</td>\n",
       "      <td>1.540</td>\n",
       "      <td>3.75</td>\n",
       "      <td>5</td>\n",
       "      <td>100</td>\n",
       "      <td>3</td>\n",
       "      <td>1</td>\n",
       "      <td>1</td>\n",
       "      <td>0</td>\n",
       "      <td>0</td>\n",
       "      <td>...</td>\n",
       "      <td>0</td>\n",
       "      <td>1</td>\n",
       "      <td>0</td>\n",
       "      <td>1</td>\n",
       "      <td>1</td>\n",
       "      <td>0</td>\n",
       "      <td>0</td>\n",
       "      <td>1</td>\n",
       "      <td>1</td>\n",
       "      <td>0</td>\n",
       "    </tr>\n",
       "    <tr>\n",
       "      <th>4</th>\n",
       "      <td>20.17</td>\n",
       "      <td>5.625</td>\n",
       "      <td>1.71</td>\n",
       "      <td>0</td>\n",
       "      <td>120</td>\n",
       "      <td>0</td>\n",
       "      <td>1</td>\n",
       "      <td>1</td>\n",
       "      <td>0</td>\n",
       "      <td>0</td>\n",
       "      <td>...</td>\n",
       "      <td>0</td>\n",
       "      <td>1</td>\n",
       "      <td>0</td>\n",
       "      <td>1</td>\n",
       "      <td>0</td>\n",
       "      <td>0</td>\n",
       "      <td>1</td>\n",
       "      <td>0</td>\n",
       "      <td>0</td>\n",
       "      <td>0</td>\n",
       "    </tr>\n",
       "  </tbody>\n",
       "</table>\n",
       "<p>5 rows × 40 columns</p>\n",
       "</div>"
      ],
      "text/plain": [
       "     Age   Debt  YearsEmployed  CreditScore ZipCode  Income  ApprovalStatus  \\\n",
       "0  30.83  0.000           1.25            1     202       0               1   \n",
       "1  58.67  4.460           3.04            6      43     560               1   \n",
       "2  24.50  0.500           1.50            0     280     824               1   \n",
       "3  27.83  1.540           3.75            5     100       3               1   \n",
       "4  20.17  5.625           1.71            0     120       0               1   \n",
       "\n",
       "   Gender_b  Married_single  Married_unknown  ...  Ethnicity_o  Ethnicity_v  \\\n",
       "0         1               0                0  ...            0            1   \n",
       "1         0               0                0  ...            0            0   \n",
       "2         0               0                0  ...            0            0   \n",
       "3         1               0                0  ...            0            1   \n",
       "4         1               0                0  ...            0            1   \n",
       "\n",
       "   Ethnicity_z  PriorDefault_t  Employed_yes  Citizen_p  Citizen_s  \\\n",
       "0            0               1             1          0          0   \n",
       "1            0               1             1          0          0   \n",
       "2            0               1             0          0          0   \n",
       "3            0               1             1          0          0   \n",
       "4            0               1             0          0          1   \n",
       "\n",
       "   DriversLicense_yes  Age_group_25-50  Age_group_50+  \n",
       "0                   0                1              0  \n",
       "1                   0                0              1  \n",
       "2                   0                1              0  \n",
       "3                   1                1              0  \n",
       "4                   0                0              0  \n",
       "\n",
       "[5 rows x 40 columns]"
      ]
     },
     "execution_count": 41,
     "metadata": {},
     "output_type": "execute_result"
    }
   ],
   "source": [
    "cc_apps_new_df.head()"
   ]
  },
  {
   "cell_type": "code",
   "execution_count": 42,
   "metadata": {},
   "outputs": [
    {
     "data": {
      "text/plain": [
       "Index(['Age', 'Debt', 'YearsEmployed', 'CreditScore', 'ZipCode', 'Income',\n",
       "       'ApprovalStatus', 'Gender_b', 'Married_single', 'Married_unknown',\n",
       "       'BankCustomer_unknown', 'BankCustomer_yes', 'EducationLevel_c',\n",
       "       'EducationLevel_cc', 'EducationLevel_d', 'EducationLevel_e',\n",
       "       'EducationLevel_ff', 'EducationLevel_i', 'EducationLevel_j',\n",
       "       'EducationLevel_k', 'EducationLevel_m', 'EducationLevel_q',\n",
       "       'EducationLevel_r', 'EducationLevel_w', 'EducationLevel_x',\n",
       "       'Ethnicity_dd', 'Ethnicity_ff', 'Ethnicity_h', 'Ethnicity_j',\n",
       "       'Ethnicity_n', 'Ethnicity_o', 'Ethnicity_v', 'Ethnicity_z',\n",
       "       'PriorDefault_t', 'Employed_yes', 'Citizen_p', 'Citizen_s',\n",
       "       'DriversLicense_yes', 'Age_group_25-50', 'Age_group_50+'],\n",
       "      dtype='object')"
      ]
     },
     "execution_count": 42,
     "metadata": {},
     "output_type": "execute_result"
    }
   ],
   "source": [
    "cc_apps_new_df.columns"
   ]
  },
  {
   "cell_type": "code",
   "execution_count": 43,
   "metadata": {},
   "outputs": [],
   "source": [
    "cc_apps_new_df = cc_apps_new_df.drop('ZipCode', axis = 1)"
   ]
  },
  {
   "cell_type": "markdown",
   "metadata": {},
   "source": [
    "## Split Data into training and test sets"
   ]
  },
  {
   "cell_type": "markdown",
   "metadata": {},
   "source": [
    "<br />\n",
    "\n",
    "***Data Split 1: Final Data, no scaling***"
   ]
  },
  {
   "cell_type": "code",
   "execution_count": 44,
   "metadata": {},
   "outputs": [],
   "source": [
    "from sklearn.model_selection import train_test_split"
   ]
  },
  {
   "cell_type": "code",
   "execution_count": 45,
   "metadata": {},
   "outputs": [],
   "source": [
    "X = cc_apps_new_df.drop('ApprovalStatus', axis = 'columns')"
   ]
  },
  {
   "cell_type": "code",
   "execution_count": 46,
   "metadata": {},
   "outputs": [],
   "source": [
    "y = cc_apps_new_df['ApprovalStatus']"
   ]
  },
  {
   "cell_type": "code",
   "execution_count": 47,
   "metadata": {},
   "outputs": [],
   "source": [
    "X_train, X_test, y_train, y_test = train_test_split(X, y, test_size = 0.3, shuffle = True, stratify = y, random_state = 42)"
   ]
  },
  {
   "cell_type": "markdown",
   "metadata": {},
   "source": [
    "<br />\n",
    "\n",
    "***Data Split 2: Final Data, with scaling***"
   ]
  },
  {
   "cell_type": "code",
   "execution_count": 48,
   "metadata": {},
   "outputs": [],
   "source": [
    "from sklearn.preprocessing import MinMaxScaler"
   ]
  },
  {
   "cell_type": "code",
   "execution_count": 49,
   "metadata": {},
   "outputs": [],
   "source": [
    "scalar = MinMaxScaler(feature_range=(0,1))"
   ]
  },
  {
   "cell_type": "code",
   "execution_count": 50,
   "metadata": {},
   "outputs": [],
   "source": [
    "X_scaled = scalar.fit_transform(X)"
   ]
  },
  {
   "cell_type": "code",
   "execution_count": 51,
   "metadata": {},
   "outputs": [
    {
     "data": {
      "text/plain": [
       "(690, 38)"
      ]
     },
     "execution_count": 51,
     "metadata": {},
     "output_type": "execute_result"
    }
   ],
   "source": [
    "X_scaled.shape"
   ]
  },
  {
   "cell_type": "code",
   "execution_count": 52,
   "metadata": {},
   "outputs": [],
   "source": [
    "X2_train, X2_test, y2_train, y2_test = train_test_split(X_scaled, y, test_size = 0.3, shuffle = True, stratify = y, random_state = 42)"
   ]
  },
  {
   "cell_type": "markdown",
   "metadata": {},
   "source": [
    "## Fitting models to the training data"
   ]
  },
  {
   "cell_type": "markdown",
   "metadata": {},
   "source": [
    "### 1. Logistic Regression"
   ]
  },
  {
   "cell_type": "markdown",
   "metadata": {},
   "source": [
    "#### Since our dependent variable is caterogical, we will start with Logistic Regression"
   ]
  },
  {
   "cell_type": "code",
   "execution_count": 53,
   "metadata": {},
   "outputs": [],
   "source": [
    "from sklearn.linear_model import LogisticRegression"
   ]
  },
  {
   "cell_type": "markdown",
   "metadata": {},
   "source": [
    "***Model Training***"
   ]
  },
  {
   "cell_type": "code",
   "execution_count": 54,
   "metadata": {},
   "outputs": [],
   "source": [
    "# run block of code and catch warnings\n",
    "with warnings.catch_warnings():\n",
    "\t# ignore all caught warnings\n",
    "\twarnings.filterwarnings(\"ignore\")"
   ]
  },
  {
   "cell_type": "code",
   "execution_count": 59,
   "metadata": {},
   "outputs": [
    {
     "data": {
      "text/plain": [
       "LogisticRegression(max_iter=10000)"
      ]
     },
     "execution_count": 59,
     "metadata": {},
     "output_type": "execute_result"
    }
   ],
   "source": [
    "#Instantiate Logistic Regression Classifier with default parameters\n",
    "logreg1 = LogisticRegression(max_iter = 10000)\n",
    "logreg1.fit(X_train, y_train)"
   ]
  },
  {
   "cell_type": "code",
   "execution_count": 60,
   "metadata": {},
   "outputs": [
    {
     "data": {
      "text/plain": [
       "LogisticRegression(max_iter=10000)"
      ]
     },
     "execution_count": 60,
     "metadata": {},
     "output_type": "execute_result"
    }
   ],
   "source": [
    "logreg1"
   ]
  },
  {
   "cell_type": "code",
   "execution_count": 61,
   "metadata": {},
   "outputs": [
    {
     "data": {
      "text/plain": [
       "LogisticRegression(max_iter=10000)"
      ]
     },
     "execution_count": 61,
     "metadata": {},
     "output_type": "execute_result"
    }
   ],
   "source": [
    "logreg2 = LogisticRegression(max_iter = 10000)\n",
    "logreg2.fit(X2_train, y2_train)"
   ]
  },
  {
   "cell_type": "markdown",
   "metadata": {},
   "source": [
    "***Predictions***"
   ]
  },
  {
   "cell_type": "code",
   "execution_count": 62,
   "metadata": {},
   "outputs": [],
   "source": [
    "y_pred = logreg1.predict(X_test)\n",
    "y2_pred = logreg2.predict(X2_test)"
   ]
  },
  {
   "cell_type": "markdown",
   "metadata": {},
   "source": [
    "***Evaluation***"
   ]
  },
  {
   "cell_type": "code",
   "execution_count": 63,
   "metadata": {},
   "outputs": [],
   "source": [
    "from sklearn.metrics import confusion_matrix, accuracy_score, precision_score, recall_score, f1_score, roc_auc_score, roc_curve"
   ]
  },
  {
   "cell_type": "code",
   "execution_count": 64,
   "metadata": {},
   "outputs": [
    {
     "name": "stdout",
     "output_type": "stream",
     "text": [
      "Logistic Regression Performance: \n",
      "\n",
      "No scaling of the Independent variables\n",
      "Accuracy of traning set:  0.865424430641822\n",
      "Accuracy of test set 0.9033816425120773\n",
      "Confusion matrix: \n",
      " [[103  12]\n",
      " [  8  84]]\n",
      "Precision:  0.875\n",
      "Recall:  0.9130434782608695\n",
      "F1 score:  0.8936170212765957\n"
     ]
    }
   ],
   "source": [
    "print(\"Logistic Regression Performance: \\n\")\n",
    "print(\"No scaling of the Independent variables\")\n",
    "print(\"Accuracy of traning set: \", logreg1.score(X_train, y_train))\n",
    "print('Accuracy of test set', logreg1.score(X_test, y_test))\n",
    "print(\"Confusion matrix: \\n\",confusion_matrix(y_test, y_pred))\n",
    "print(\"Precision: \", precision_score(y_test, y_pred))\n",
    "print(\"Recall: \", recall_score(y_test, y_pred))\n",
    "print(\"F1 score: \", f1_score(y_test, y_pred))"
   ]
  },
  {
   "cell_type": "code",
   "execution_count": 65,
   "metadata": {},
   "outputs": [
    {
     "data": {
      "text/plain": [
       "Text(0.5, 257.44, 'Predicted label')"
      ]
     },
     "execution_count": 65,
     "metadata": {},
     "output_type": "execute_result"
    },
    {
     "data": {
      "image/png": "[encoded data removed]",
      "text/plain": [
       "<Figure size 432x288 with 2 Axes>"
      ]
     },
     "metadata": {},
     "output_type": "display_data"
    }
   ],
   "source": [
    "class_names=[0,1] # name  of classes\n",
    "fig, ax = plt.subplots()\n",
    "tick_marks = np.arange(len(class_names))\n",
    "plt.xticks(tick_marks, class_names)\n",
    "plt.yticks(tick_marks, class_names)\n",
    "# create heatmap\n",
    "sns.heatmap(pd.DataFrame(confusion_matrix(y_test, y_pred)), annot=True, cmap=\"YlGnBu\" ,fmt='g')\n",
    "ax.xaxis.set_label_position(\"top\")\n",
    "plt.tight_layout()\n",
    "plt.title('Confusion matrix', y=1.1)\n",
    "plt.ylabel('Actual label')\n",
    "plt.xlabel('Predicted label')"
   ]
  },
  {
   "cell_type": "code",
   "execution_count": 66,
   "metadata": {},
   "outputs": [
    {
     "name": "stdout",
     "output_type": "stream",
     "text": [
      "Scaling of the Independent variables\n",
      "\n",
      "Accuracy of scaled traning set:  0.8592132505175983\n",
      "Accuracy of scaled test set 0.8840579710144928\n",
      "Confusion matrix for scaled data: \n",
      " [[99 16]\n",
      " [ 8 84]]\n",
      "Precision of scaled data:  0.84\n",
      "Recall of scaled data:  0.9130434782608695\n",
      "F1 score of scaled data:  0.8749999999999999\n"
     ]
    }
   ],
   "source": [
    "print(\"Scaling of the Independent variables\\n\")\n",
    "print(\"Accuracy of scaled traning set: \", logreg2.score(X2_train, y2_train))\n",
    "print('Accuracy of scaled test set', logreg2.score(X2_test, y2_test))\n",
    "print(\"Confusion matrix for scaled data: \\n\",confusion_matrix(y2_test, y2_pred))\n",
    "print(\"Precision of scaled data: \", precision_score(y2_test, y2_pred))\n",
    "print(\"Recall of scaled data: \", recall_score(y2_test, y2_pred))\n",
    "print(\"F1 score of scaled data: \", f1_score(y2_test, y2_pred))"
   ]
  },
  {
   "cell_type": "markdown",
   "metadata": {},
   "source": [
    "#### From the metrics above, the accuracy of our test set is higher than the accuracy of our traning set for both Scaled and Unscaled data. Also, the number of False positive and False negative are nearly similar for the unscaled and scaled test set. "
   ]
  },
  {
   "cell_type": "markdown",
   "metadata": {},
   "source": [
    "### Hyperparameter tuning"
   ]
  },
  {
   "cell_type": "markdown",
   "metadata": {},
   "source": [
    "#### We will select set of optimal hyperparameters to improve the accuracy of our Logistic regression algorithm for the unscaled data"
   ]
  },
  {
   "cell_type": "code",
   "execution_count": 67,
   "metadata": {},
   "outputs": [],
   "source": [
    "from sklearn.model_selection import GridSearchCV"
   ]
  },
  {
   "cell_type": "code",
   "execution_count": 68,
   "metadata": {},
   "outputs": [],
   "source": [
    "with warnings.catch_warnings():\n",
    "    warnings.filterwarnings(\"ignore\", category=ConvergenceWarning)"
   ]
  },
  {
   "cell_type": "code",
   "execution_count": 69,
   "metadata": {},
   "outputs": [
    {
     "name": "stdout",
     "output_type": "stream",
     "text": [
      "Fitting 5 folds for each of 128 candidates, totalling 640 fits\n"
     ]
    },
    {
     "name": "stderr",
     "output_type": "stream",
     "text": [
      "[Parallel(n_jobs=-1)]: Using backend LokyBackend with 4 concurrent workers.\n",
      "[Parallel(n_jobs=-1)]: Done  42 tasks      | elapsed:    7.9s\n",
      "[Parallel(n_jobs=-1)]: Done 192 tasks      | elapsed:   34.6s\n",
      "[Parallel(n_jobs=-1)]: Done 442 tasks      | elapsed:  1.8min\n"
     ]
    },
    {
     "name": "stdout",
     "output_type": "stream",
     "text": [
      "Best Score:  0.859192439862543\n",
      "Best Params:  {'C': 1, 'class_weight': {1: 0.4, 0: 0.6}, 'penalty': 'l1', 'solver': 'liblinear'}\n",
      "Best Estimator:  LogisticRegression(C=1, class_weight={0: 0.6, 1: 0.4}, max_iter=10000,\n",
      "                   penalty='l1', solver='liblinear')\n"
     ]
    },
    {
     "name": "stderr",
     "output_type": "stream",
     "text": [
      "[Parallel(n_jobs=-1)]: Done 640 out of 640 | elapsed:  2.8min finished\n"
     ]
    }
   ],
   "source": [
    "penalty = ['l1', 'l2']\n",
    "C = [0.0001, 0.001, 0.01, 0.1, 1, 10, 100, 1000]\n",
    "class_weight = [{1:0.5, 0:0.5}, {1:0.4, 0:0.6}, {1:0.6, 0:0.4}, {1:0.7, 0:0.3}]\n",
    "solver = ['liblinear', 'saga']\n",
    "\n",
    "param_grid = dict(penalty=penalty,\n",
    "                  C=C,\n",
    "                  class_weight=class_weight,\n",
    "                  solver=solver)\n",
    "\n",
    "grid = GridSearchCV(estimator=logreg1,\n",
    "                    param_grid=param_grid,\n",
    "                    scoring = 'accuracy',\n",
    "                    cv = 5,\n",
    "                    verbose=1, \n",
    "                    n_jobs=-1)\n",
    "\n",
    "grid_result = grid.fit(X_train, y_train)\n",
    "print('Best Score: ', grid_result.best_score_)\n",
    "print('Best Params: ', grid_result.best_params_)\n",
    "print('Best Estimator: ', grid_result.best_estimator_)"
   ]
  },
  {
   "cell_type": "markdown",
   "metadata": {},
   "source": [
    " #### The use of hyperparameter tuning does not significantly improve our Logistic regression algorithm"
   ]
  },
  {
   "cell_type": "markdown",
   "metadata": {},
   "source": [
    "#### ROC Curve"
   ]
  },
  {
   "cell_type": "markdown",
   "metadata": {},
   "source": [
    "#### Receiver operating characteristics (ROC) curve is a plot of the true positive rate against the false positive rate. It shows the tradeoff between sensitivity and specificity."
   ]
  },
  {
   "cell_type": "code",
   "execution_count": 70,
   "metadata": {},
   "outputs": [
    {
     "name": "stdout",
     "output_type": "stream",
     "text": [
      "roc_auc_score 0.9043478260869565\n"
     ]
    }
   ],
   "source": [
    "print(\"roc_auc_score\", roc_auc_score(y_test, y_pred))"
   ]
  },
  {
   "cell_type": "code",
   "execution_count": 71,
   "metadata": {},
   "outputs": [
    {
     "data": {
      "image/png": "[encoded data removed]",
      "text/plain": [
       "<Figure size 432x288 with 1 Axes>"
      ]
     },
     "metadata": {},
     "output_type": "display_data"
    }
   ],
   "source": [
    "y_pred_proba = logreg1.predict_proba(X_test)[::,1]\n",
    "fpr, tpr, thresholds = roc_curve(y_test,  y_pred_proba)\n",
    "auc =roc_auc_score(y_test, y_pred_proba)\n",
    "plt.title('ROC curve for Unscaled Credit card approval classifier')\n",
    "plt.plot(fpr,tpr,label=\"data 1, auc=\"+str(auc))\n",
    "plt.xlabel('False Positive Rate (1 - Specificity)')\n",
    "plt.ylabel('True Positive Rate (Sensitivity)')\n",
    "plt.legend(loc=4)\n",
    "plt.show()"
   ]
  },
  {
   "cell_type": "code",
   "execution_count": 72,
   "metadata": {},
   "outputs": [],
   "source": [
    "# define a function that accepts a threshold and prints sensitivity and specificity\n",
    "def evaluate_threshold(threshold):\n",
    "    print('Sensitivity:', tpr[thresholds > threshold][-1])\n",
    "    print('Specificity:', 1 - fpr[thresholds > threshold][-1])"
   ]
  },
  {
   "cell_type": "code",
   "execution_count": 73,
   "metadata": {},
   "outputs": [
    {
     "name": "stdout",
     "output_type": "stream",
     "text": [
      "Sensitivity: 0.9347826086956522\n",
      "Specificity: 0.8608695652173913\n"
     ]
    }
   ],
   "source": [
    "evaluate_threshold(0.4)"
   ]
  },
  {
   "cell_type": "code",
   "execution_count": 74,
   "metadata": {},
   "outputs": [
    {
     "name": "stdout",
     "output_type": "stream",
     "text": [
      "Sensitivity: 0.8804347826086957\n",
      "Specificity: 0.8956521739130435\n"
     ]
    }
   ],
   "source": [
    "evaluate_threshold(0.5)"
   ]
  },
  {
   "cell_type": "markdown",
   "metadata": {},
   "source": [
    "#### For this data, the best threshold that balances sensitivity and specificity for the unscaled test data is between 0.4 and 0.5"
   ]
  },
  {
   "cell_type": "markdown",
   "metadata": {},
   "source": [
    "### 2. Support Vector Classifier(SVC)"
   ]
  },
  {
   "cell_type": "code",
   "execution_count": 75,
   "metadata": {},
   "outputs": [],
   "source": [
    "from sklearn.svm import SVC"
   ]
  },
  {
   "cell_type": "markdown",
   "metadata": {},
   "source": [
    "***Model Training***"
   ]
  },
  {
   "cell_type": "code",
   "execution_count": 76,
   "metadata": {},
   "outputs": [
    {
     "data": {
      "text/plain": [
       "SVC()"
      ]
     },
     "execution_count": 76,
     "metadata": {},
     "output_type": "execute_result"
    }
   ],
   "source": [
    "#Instantiate with default hyperparameters\n",
    "svc1 = SVC()\n",
    "svc1.fit(X_train, y_train)"
   ]
  },
  {
   "cell_type": "code",
   "execution_count": 77,
   "metadata": {},
   "outputs": [
    {
     "data": {
      "text/plain": [
       "SVC()"
      ]
     },
     "execution_count": 77,
     "metadata": {},
     "output_type": "execute_result"
    }
   ],
   "source": [
    "svc2 = SVC()\n",
    "svc2.fit(X2_train, y2_train)"
   ]
  },
  {
   "cell_type": "markdown",
   "metadata": {},
   "source": [
    "<br />\n",
    "\n",
    "***Predictions***"
   ]
  },
  {
   "cell_type": "code",
   "execution_count": 78,
   "metadata": {},
   "outputs": [],
   "source": [
    "svc1_y_pred = svc1.predict(X_test)\n",
    "svc2_y_pred = svc2.predict(X2_test)"
   ]
  },
  {
   "cell_type": "markdown",
   "metadata": {},
   "source": [
    "<br />\n",
    "\n",
    "***Evaluation***"
   ]
  },
  {
   "cell_type": "code",
   "execution_count": 79,
   "metadata": {},
   "outputs": [
    {
     "name": "stdout",
     "output_type": "stream",
     "text": [
      "SVC Performance: \n",
      "\n",
      "No scaling of the Independent variables\n",
      "Accuracy of traning set:  0.6459627329192547\n",
      "Accuracy of test set 0.6666666666666666\n",
      "Confusion matrix: \n",
      " [[106   9]\n",
      " [ 60  32]]\n",
      "Precision:  0.7804878048780488\n",
      "Recall:  0.34782608695652173\n",
      "F1 score:  0.481203007518797\n"
     ]
    }
   ],
   "source": [
    "print(\"SVC Performance: \\n\")\n",
    "print(\"No scaling of the Independent variables\")\n",
    "print(\"Accuracy of traning set: \", svc1.score(X_train, y_train))\n",
    "print('Accuracy of test set', svc1.score(X_test, y_test))\n",
    "print(\"Confusion matrix: \\n\", confusion_matrix(y_test, svc1_y_pred))\n",
    "print(\"Precision: \", precision_score(y_test, svc1_y_pred))\n",
    "print(\"Recall: \", recall_score(y_test, svc1_y_pred))\n",
    "print(\"F1 score: \", f1_score(y_test, svc1_y_pred))"
   ]
  },
  {
   "cell_type": "markdown",
   "metadata": {},
   "source": [
    "#### The SVC model does not perform well for the unscaled data compared to Logistic Regression    "
   ]
  },
  {
   "cell_type": "code",
   "execution_count": 80,
   "metadata": {},
   "outputs": [
    {
     "name": "stdout",
     "output_type": "stream",
     "text": [
      "Scaling of the Independent variables\n",
      "\n",
      "Accuracy of scaled traning set:  0.8964803312629399\n",
      "Accuracy of scaled test set 0.8888888888888888\n",
      "Confusion matrix for scaled data: \n",
      " [[102  13]\n",
      " [ 10  82]]\n",
      "Precision of scaled data:  0.8631578947368421\n",
      "Recall of scaled data:  0.8913043478260869\n",
      "F1 score of scaled data:  0.8770053475935828\n"
     ]
    }
   ],
   "source": [
    "print(\"Scaling of the Independent variables\\n\")\n",
    "print(\"Accuracy of scaled traning set: \", svc2.score(X2_train, y2_train))\n",
    "print('Accuracy of scaled test set', svc2.score(X2_test, y2_test))\n",
    "print(\"Confusion matrix for scaled data: \\n\",confusion_matrix(y2_test, svc2_y_pred))\n",
    "print(\"Precision of scaled data: \", precision_score(y2_test, svc2_y_pred))\n",
    "print(\"Recall of scaled data: \", recall_score(y2_test, svc2_y_pred))\n",
    "print(\"F1 score of scaled data: \", f1_score(y2_test, svc2_y_pred))"
   ]
  },
  {
   "cell_type": "markdown",
   "metadata": {},
   "source": [
    "#### The SVC model performs better on the scaled data compared to the unscaled data. Also, the accuracy of the training and test data are nearly similar. "
   ]
  },
  {
   "cell_type": "markdown",
   "metadata": {},
   "source": [
    "### Hyperparameter Tuning"
   ]
  },
  {
   "cell_type": "markdown",
   "metadata": {},
   "source": [
    "#### Here, we will use RandomizedSearchCV to find near-optimal hyperparameters to improve the accuracy of our Support Vector Classifier (SVC) model"
   ]
  },
  {
   "cell_type": "code",
   "execution_count": 81,
   "metadata": {},
   "outputs": [],
   "source": [
    "from sklearn.model_selection import RandomizedSearchCV"
   ]
  },
  {
   "cell_type": "code",
   "execution_count": 85,
   "metadata": {},
   "outputs": [
    {
     "name": "stdout",
     "output_type": "stream",
     "text": [
      "Fitting 5 folds for each of 10 candidates, totalling 50 fits\n"
     ]
    },
    {
     "name": "stderr",
     "output_type": "stream",
     "text": [
      "[Parallel(n_jobs=-1)]: Using backend LokyBackend with 4 concurrent workers.\n",
      "[Parallel(n_jobs=-1)]: Done  43 out of  50 | elapsed:    5.8s remaining:    0.9s\n",
      "[Parallel(n_jobs=-1)]: Done  50 out of  50 | elapsed: 11.7min finished\n"
     ]
    },
    {
     "name": "stdout",
     "output_type": "stream",
     "text": [
      "Hyper-parameter tuning for unscaled data: \n",
      "Best Score:  0.8073883161512028\n",
      "Best Params:  {'kernel': 'linear', 'gamma': 'scale', 'C': 10}\n",
      "Best Estimator:  SVC(C=10, kernel='linear')\n",
      "Fitting 5 folds for each of 10 candidates, totalling 50 fits\n"
     ]
    },
    {
     "name": "stderr",
     "output_type": "stream",
     "text": [
      "[Parallel(n_jobs=-1)]: Using backend LokyBackend with 4 concurrent workers.\n"
     ]
    },
    {
     "name": "stdout",
     "output_type": "stream",
     "text": [
      "Hyper-parameter tuning for Scaled data: \n",
      "Best Score:  0.8468213058419243\n",
      "Best Params:  {'kernel': 'poly', 'gamma': 'scale', 'C': 1.0}\n",
      "Best Estimator:  SVC(kernel='poly')\n"
     ]
    },
    {
     "name": "stderr",
     "output_type": "stream",
     "text": [
      "[Parallel(n_jobs=-1)]: Done  50 out of  50 | elapsed:    3.6s finished\n"
     ]
    }
   ],
   "source": [
    "kernel = ['poly', 'rbf', 'linear', 'sigmoid']\n",
    "C = [100, 10, 1.0, 0.01]\n",
    "gamma = ['scale']\n",
    "\n",
    "param_grid = dict(kernel = kernel,\n",
    "                  C=C,\n",
    "                  gamma = gamma)\n",
    "\n",
    "grid_svm_1 = RandomizedSearchCV(estimator=svc1,\n",
    "                    param_distributions=param_grid,\n",
    "                    scoring = 'accuracy',\n",
    "                    cv = 5,\n",
    "                    verbose=1, \n",
    "                    n_jobs=-1)\n",
    "\n",
    "grid_result_svm1 = grid_svm_1.fit(X_train, y_train)\n",
    "print(\"Hyper-parameter tuning for unscaled data: \")\n",
    "print('Best Score: ', grid_result_svm1.best_score_)\n",
    "print('Best Params: ', grid_result_svm1.best_params_)\n",
    "print('Best Estimator: ', grid_result_svm1.best_estimator_)\n",
    "\n",
    "grid_svm_2 = RandomizedSearchCV(estimator=svc2,\n",
    "                    param_distributions=param_grid,\n",
    "                    scoring = 'accuracy',\n",
    "                    cv = 5,\n",
    "                    verbose=1, \n",
    "                    n_jobs=-1)\n",
    "\n",
    "grid_result_svm2 = grid_svm_2.fit(X2_train, y2_train)\n",
    "print(\"Hyper-parameter tuning for Scaled data: \")\n",
    "print('Best Score: ', grid_result_svm2.best_score_)\n",
    "print('Best Params: ', grid_result_svm2.best_params_)\n",
    "print('Best Estimator: ', grid_result_svm2.best_estimator_)"
   ]
  },
  {
   "cell_type": "markdown",
   "metadata": {},
   "source": [
    "#### Hyperparameter tuning improves the accuracy of the unscaled data but the accuracy of the scaled data is nearly similar to the default hyperparameters"
   ]
  },
  {
   "cell_type": "code",
   "execution_count": null,
   "metadata": {},
   "outputs": [],
   "source": [
    "svc_hp_1 = SVC(C=10, kernel='linear')\n",
    "svc_hp_1.fit(X_train, y_train)"
   ]
  },
  {
   "cell_type": "code",
   "execution_count": 90,
   "metadata": {},
   "outputs": [
    {
     "name": "stdout",
     "output_type": "stream",
     "text": [
      "Following hyperparameter tuning of unscaled data: \n",
      "Accuracy:  0.855072463768116\n"
     ]
    }
   ],
   "source": [
    "print(\"Following hyperparameter tuning of unscaled data: \")\n",
    "print(\"Accuracy: \", svc_hp_1.score(X_test, y_test))"
   ]
  },
  {
   "cell_type": "markdown",
   "metadata": {},
   "source": [
    "\n",
    "\n",
    "### 3. K Nearest neighbor"
   ]
  },
  {
   "cell_type": "markdown",
   "metadata": {},
   "source": [
    "#### We will build a KNN model to our scaled data since scaling improves the performance of KNN algorithm "
   ]
  },
  {
   "cell_type": "markdown",
   "metadata": {},
   "source": [
    "***Model training***"
   ]
  },
  {
   "cell_type": "code",
   "execution_count": 116,
   "metadata": {},
   "outputs": [
    {
     "data": {
      "text/plain": [
       "KNeighborsClassifier()"
      ]
     },
     "execution_count": 116,
     "metadata": {},
     "output_type": "execute_result"
    }
   ],
   "source": [
    "#using default hyperparameters to train scaled data \n",
    "\n",
    "knn = KNeighborsClassifier()\n",
    "knn.fit(X2_train, y2_train)"
   ]
  },
  {
   "cell_type": "markdown",
   "metadata": {},
   "source": [
    "***Predictions***"
   ]
  },
  {
   "cell_type": "code",
   "execution_count": 216,
   "metadata": {},
   "outputs": [],
   "source": [
    "knn_y_pred = knn.predict(X2_test)"
   ]
  },
  {
   "cell_type": "markdown",
   "metadata": {},
   "source": [
    "<br />\n",
    "\n",
    "***Model Evaluation***\n"
   ]
  },
  {
   "cell_type": "code",
   "execution_count": 217,
   "metadata": {},
   "outputs": [
    {
     "name": "stdout",
     "output_type": "stream",
     "text": [
      "KNN model performance: \n",
      "\n",
      "Scaled independent features\n",
      "Accuracy of traning set:  0.8778467908902692\n",
      "Accuracy of test set 0.8599033816425121\n",
      "Confusion matrix: \n",
      " [[100  15]\n",
      " [ 14  78]]\n",
      "Precision:  0.8387096774193549\n",
      "Recall:  0.8478260869565217\n",
      "F1 score:  0.8432432432432434\n"
     ]
    }
   ],
   "source": [
    "print(\"KNN model performance: \\n\")\n",
    "print(\"Scaled independent features\")\n",
    "print(\"Accuracy of traning set: \", knn.score(X2_train, y2_train))\n",
    "print('Accuracy of test set', knn.score(X2_test, y2_test))\n",
    "print(\"Confusion matrix: \\n\", confusion_matrix(y2_test, knn_y_pred))\n",
    "print(\"Precision: \", precision_score(y2_test, knn_y_pred))\n",
    "print(\"Recall: \", recall_score(y2_test, knn_y_pred))\n",
    "print(\"F1 score: \", f1_score(y2_test, knn_y_pred))"
   ]
  },
  {
   "cell_type": "markdown",
   "metadata": {},
   "source": [
    "#### The accuracy of the KNN classifier model is consistent accross the training and test set. The default number of neighbor used by KNN classifier is 5. We will try and search for optimal value of K for our KNN classfier."
   ]
  },
  {
   "cell_type": "code",
   "execution_count": 218,
   "metadata": {},
   "outputs": [],
   "source": [
    "# search for an optimal value of K for KNN\n",
    "k_range = list(range(1, 31))\n",
    "k_scores = []\n",
    "for k in k_range:\n",
    "    knn = KNeighborsClassifier(n_neighbors=k)\n",
    "    scores = cross_val_score(knn, X2_train, y2_train, scoring='accuracy')\n",
    "    k_scores.append(scores.mean())"
   ]
  },
  {
   "cell_type": "code",
   "execution_count": 219,
   "metadata": {},
   "outputs": [
    {
     "data": {
      "text/plain": [
       "Text(0, 0.5, 'Cross-Validated Accuracy')"
      ]
     },
     "execution_count": 219,
     "metadata": {},
     "output_type": "execute_result"
    },
    {
     "data": {
      "image/png": "[encoded data removed]",
      "text/plain": [
       "<Figure size 432x288 with 1 Axes>"
      ]
     },
     "metadata": {},
     "output_type": "display_data"
    }
   ],
   "source": [
    "# plot the value of K for KNN (x-axis) versus the cross-validated accuracy (y-axis)\n",
    "plt.plot(k_range, k_scores)\n",
    "plt.xlabel('Value of K for KNN')\n",
    "plt.ylabel('Cross-Validated Accuracy')"
   ]
  },
  {
   "cell_type": "markdown",
   "metadata": {},
   "source": [
    "#### We will try n_neighbors=9 to see if it improves the accuracy of our predictions.  "
   ]
  },
  {
   "cell_type": "code",
   "execution_count": 129,
   "metadata": {},
   "outputs": [
    {
     "data": {
      "text/plain": [
       "0.8647342995169082"
      ]
     },
     "execution_count": 129,
     "metadata": {},
     "output_type": "execute_result"
    }
   ],
   "source": [
    "knn_2 = KNeighborsClassifier(n_neighbors=9)\n",
    "knn_2.fit(X2_train, y2_train)\n",
    "knn_2.score(X2_test, y2_test)"
   ]
  },
  {
   "cell_type": "code",
   "execution_count": 220,
   "metadata": {},
   "outputs": [],
   "source": [
    "y_pred_knn2 = knn_2.predict(X2_test)"
   ]
  },
  {
   "cell_type": "code",
   "execution_count": 221,
   "metadata": {},
   "outputs": [
    {
     "name": "stdout",
     "output_type": "stream",
     "text": [
      "KNN model performance after finding highest K value: \n",
      "\n",
      "Scaled independent features\n",
      "Accuracy of traning set:  0.8633540372670807\n",
      "Accuracy of test set 0.8647342995169082\n",
      "Confusion matrix: \n",
      " [[103  12]\n",
      " [ 16  76]]\n",
      "Precision:  0.8636363636363636\n",
      "Recall:  0.8260869565217391\n",
      "F1 score:  0.8444444444444444\n"
     ]
    }
   ],
   "source": [
    "print(\"KNN model performance after finding highest K value: \\n\")\n",
    "print(\"Scaled independent features\")\n",
    "print(\"Accuracy of traning set: \", knn_2.score(X2_train, y2_train))\n",
    "print('Accuracy of test set', knn_2.score(X2_test, y2_test))\n",
    "print(\"Confusion matrix: \\n\", confusion_matrix(y2_test, y_pred_knn2))\n",
    "print(\"Precision: \", precision_score(y2_test, y_pred_knn2))\n",
    "print(\"Recall: \", recall_score(y2_test, y_pred_knn2))\n",
    "print(\"F1 score: \", f1_score(y2_test, y_pred_knn2))"
   ]
  },
  {
   "cell_type": "markdown",
   "metadata": {},
   "source": [
    "#### It does improve the accuracy of our model by a small margin. \n",
    "#### We can also use GridSearchCV or RandomizedSearchCV to select optimal hyperparameters to increase our K score. "
   ]
  },
  {
   "cell_type": "markdown",
   "metadata": {},
   "source": [
    "<br />\n",
    "\n",
    "### 4.Decision Tree"
   ]
  },
  {
   "cell_type": "markdown",
   "metadata": {},
   "source": [
    "#### We will only use our unscaled data for this machine learning model. DT rely on rules and it isnt affected by transformation of the features. "
   ]
  },
  {
   "cell_type": "code",
   "execution_count": 130,
   "metadata": {},
   "outputs": [],
   "source": [
    "from sklearn.tree import DecisionTreeClassifier"
   ]
  },
  {
   "cell_type": "markdown",
   "metadata": {},
   "source": [
    "<b />\n",
    "\n",
    "***Model training***"
   ]
  },
  {
   "cell_type": "code",
   "execution_count": 135,
   "metadata": {},
   "outputs": [
    {
     "data": {
      "text/plain": [
       "DecisionTreeClassifier()"
      ]
     },
     "execution_count": 135,
     "metadata": {},
     "output_type": "execute_result"
    }
   ],
   "source": [
    "#Instatiate decisiontree classifier\n",
    "dt = DecisionTreeClassifier()\n",
    "#fit model to training data\n",
    "dt.fit(X_train, y_train)"
   ]
  },
  {
   "cell_type": "markdown",
   "metadata": {},
   "source": [
    "<br />\n",
    "\n",
    "***Predictions***"
   ]
  },
  {
   "cell_type": "code",
   "execution_count": 136,
   "metadata": {},
   "outputs": [],
   "source": [
    "y_pred_dt = dt.predict(X_test)"
   ]
  },
  {
   "cell_type": "markdown",
   "metadata": {},
   "source": [
    "<b />\n",
    "\n",
    "***Model Evaluation***"
   ]
  },
  {
   "cell_type": "code",
   "execution_count": 138,
   "metadata": {},
   "outputs": [
    {
     "name": "stdout",
     "output_type": "stream",
     "text": [
      "DecisionTree performance: \n",
      "\n",
      "Unscaled independent features\n",
      "Accuracy of traning set:  1.0\n",
      "Accuracy of test set 0.8502415458937198\n",
      "Confusion matrix: \n",
      " [[99 16]\n",
      " [15 77]]\n",
      "Precision:  0.8279569892473119\n",
      "Recall:  0.8369565217391305\n",
      "F1 score:  0.8324324324324325\n"
     ]
    }
   ],
   "source": [
    "print(\"DecisionTree performance: \\n\")\n",
    "print(\"Unscaled independent features\")\n",
    "print(\"Accuracy of traning set: \", dt.score(X_train, y_train))\n",
    "print('Accuracy of test set', dt.score(X_test, y_test))\n",
    "print(\"Confusion matrix: \\n\", confusion_matrix(y_test, y_pred_dt))\n",
    "print(\"Precision: \", precision_score(y_test, y_pred_dt))\n",
    "print(\"Recall: \", recall_score(y_test, y_pred_dt))\n",
    "print(\"F1 score: \", f1_score(y_test, y_pred_dt))"
   ]
  },
  {
   "cell_type": "markdown",
   "metadata": {},
   "source": [
    "#### From the result above, we observe that decisiontree model overfits the training data (low bias and high variance). "
   ]
  },
  {
   "cell_type": "markdown",
   "metadata": {},
   "source": [
    "#### Lets see if we can improve test accuracy by hyperparameter tuning. We can set a maxdepth of 5 for our model such that no nodes are created right after the max depth. We can also adjust the min_samples_leaf to 0.2"
   ]
  },
  {
   "cell_type": "code",
   "execution_count": 143,
   "metadata": {},
   "outputs": [
    {
     "name": "stdout",
     "output_type": "stream",
     "text": [
      "DecisionTree performance following Hyperparameter tuning: \n",
      "\n",
      "Unscaled independent features\n",
      "Accuracy of traning set:  0.8302277432712215\n",
      "Accuracy of test set 0.9130434782608695\n",
      "Confusion matrix: \n",
      " [[98 17]\n",
      " [ 1 91]]\n",
      "Precision:  0.8425925925925926\n",
      "Recall:  0.9891304347826086\n",
      "F1 score:  0.91\n"
     ]
    }
   ],
   "source": [
    "dt_2 = DecisionTreeClassifier(max_depth = 5, min_samples_leaf=0.4)\n",
    "dt_2.fit(X_train, y_train)\n",
    "y_pred_dt2 = dt_2.predict(X_test)\n",
    "print(\"DecisionTree performance following Hyperparameter tuning: \\n\")\n",
    "print(\"Unscaled independent features\")\n",
    "print(\"Accuracy of traning set: \", dt_2.score(X_train, y_train))\n",
    "print('Accuracy of test set', dt_2.score(X_test, y_test))\n",
    "print(\"Confusion matrix: \\n\", confusion_matrix(y_test, y_pred_dt2))\n",
    "print(\"Precision: \", precision_score(y_test, y_pred_dt2))\n",
    "print(\"Recall: \", recall_score(y_test, y_pred_dt2))\n",
    "print(\"F1 score: \", f1_score(y_test, y_pred_dt2))"
   ]
  },
  {
   "cell_type": "markdown",
   "metadata": {},
   "source": [
    "#### By setting a max_depth and changing the min_samples_leaf, we notice an underfitting of the model to the training data but perfomed well on the test data. \n",
    "\n",
    "#### In an attempt to reduce overfitting, we did underfit the model to the training data. However, the training accuracy score is consistent with other classification models that we looked at, but we got a higher test accuracy"
   ]
  },
  {
   "cell_type": "markdown",
   "metadata": {},
   "source": [
    "## Ensemble learning\n",
    "\n",
    "#### It is much reliable to use various models rather than just one. A collection of several models working together on a single data is called ```Ensemble```"
   ]
  },
  {
   "cell_type": "markdown",
   "metadata": {},
   "source": [
    "### 5. Voting Classifier"
   ]
  },
  {
   "cell_type": "code",
   "execution_count": 144,
   "metadata": {},
   "outputs": [],
   "source": [
    "from sklearn.ensemble import VotingClassifier"
   ]
  },
  {
   "cell_type": "markdown",
   "metadata": {},
   "source": [
    "<b />\n",
    "\n",
    "***Model building and prediction on unscaled data***"
   ]
  },
  {
   "cell_type": "code",
   "execution_count": 154,
   "metadata": {},
   "outputs": [
    {
     "name": "stdout",
     "output_type": "stream",
     "text": [
      "Voting Classifier score: 0.821256038647343\n"
     ]
    }
   ],
   "source": [
    "voting_clf_1 = VotingClassifier([('Logistic Regression', logreg1), ('K Nearest neighbors', knn), ('SVC', svc1), ('Decision Tree', dt_2)])\n",
    "voting_clf_1.fit(X_train, y_train)\n",
    "y_pred_vt_1 = voting_clf_1.predict(X_test)\n",
    "print('Voting Classifier score: {}'.format(voting_clf_1.score(X_test, y_test)))"
   ]
  },
  {
   "cell_type": "markdown",
   "metadata": {},
   "source": [
    "***Model building and prediction on scaled data***"
   ]
  },
  {
   "cell_type": "code",
   "execution_count": 164,
   "metadata": {},
   "outputs": [
    {
     "name": "stdout",
     "output_type": "stream",
     "text": [
      "Voting Classifier score: 0.8888888888888888\n"
     ]
    }
   ],
   "source": [
    "voting_clf_2 = VotingClassifier([('Logistic Regression', logreg1), ('K Nearest neighbors', knn), ('SVC', svc1), ('Decision Tree', dt_2)])\n",
    "voting_clf_2.fit(X2_train, y2_train)\n",
    "y_pred_vt_2 = voting_clf.predict(X2_test)\n",
    "print('Voting Classifier score: {}'.format(voting_clf_2.score(X2_test, y2_test)))"
   ]
  },
  {
   "cell_type": "markdown",
   "metadata": {},
   "source": [
    "***Evaluation of unscaled data***"
   ]
  },
  {
   "cell_type": "code",
   "execution_count": 215,
   "metadata": {},
   "outputs": [
    {
     "name": "stdout",
     "output_type": "stream",
     "text": [
      "VotingClassifier performance: \n",
      "\n",
      "Unscaled independent features\n",
      "Accuracy of traning set:  0.8157349896480331\n",
      "Accuracy of test set 0.821256038647343\n",
      "Confusion matrix: \n",
      " [[112   3]\n",
      " [ 34  58]]\n",
      "Precision:  0.9508196721311475\n",
      "Recall:  0.6304347826086957\n",
      "F1 score:  0.758169934640523\n"
     ]
    }
   ],
   "source": [
    "print(\"VotingClassifier performance: \\n\")\n",
    "print(\"Unscaled independent features\")\n",
    "print(\"Accuracy of traning set: \", voting_clf_1.score(X_train, y_train))\n",
    "print('Accuracy of test set', voting_clf_1.score(X_test, y_test))\n",
    "print(\"Confusion matrix: \\n\", confusion_matrix(y_test, y_pred_vt_1))\n",
    "print(\"Precision: \", precision_score(y_test, y_pred_vt_1))\n",
    "print(\"Recall: \", recall_score(y_test, y_pred_vt_1))\n",
    "print(\"F1 score: \", f1_score(y_test, y_pred_vt_1))"
   ]
  },
  {
   "cell_type": "markdown",
   "metadata": {},
   "source": [
    "***Evaluation of scaled data***"
   ]
  },
  {
   "cell_type": "code",
   "execution_count": 165,
   "metadata": {},
   "outputs": [
    {
     "name": "stdout",
     "output_type": "stream",
     "text": [
      "VotingClassifier performance: \n",
      "\n",
      "Scaled independent features\n",
      "Accuracy of traning set:  0.8778467908902692\n",
      "Accuracy of test set 0.8888888888888888\n",
      "Confusion matrix: \n",
      " [[102  13]\n",
      " [ 10  82]]\n",
      "Precision:  0.8631578947368421\n",
      "Recall:  0.8913043478260869\n",
      "F1 score:  0.8770053475935828\n"
     ]
    }
   ],
   "source": [
    "print(\"VotingClassifier performance: \\n\")\n",
    "print(\"Scaled independent features\")\n",
    "print(\"Accuracy of traning set: \", voting_clf_2.score(X2_train, y2_train))\n",
    "print('Accuracy of test set', voting_clf_2.score(X2_test, y2_test))\n",
    "print(\"Confusion matrix: \\n\", confusion_matrix(y2_test, y_pred_vt_2))\n",
    "print(\"Precision: \", precision_score(y2_test, y_pred_vt_2))\n",
    "print(\"Recall: \", recall_score(y2_test, y_pred_vt_2))\n",
    "print(\"F1 score: \", f1_score(y2_test, y_pred_vt_2))"
   ]
  },
  {
   "cell_type": "markdown",
   "metadata": {},
   "source": [
    "#### From the above run, the voting classifier accuracy score for the scaled test set is higher than the unscaled test set data. "
   ]
  },
  {
   "cell_type": "markdown",
   "metadata": {},
   "source": [
    "### 6. Random Forest "
   ]
  },
  {
   "cell_type": "code",
   "execution_count": 166,
   "metadata": {},
   "outputs": [],
   "source": [
    "from sklearn.ensemble import RandomForestClassifier"
   ]
  },
  {
   "cell_type": "markdown",
   "metadata": {},
   "source": [
    "#### With Random forest, we will get to know the important features that help to classify our dependent variable"
   ]
  },
  {
   "cell_type": "markdown",
   "metadata": {},
   "source": [
    "***Model building***"
   ]
  },
  {
   "cell_type": "code",
   "execution_count": 170,
   "metadata": {},
   "outputs": [
    {
     "data": {
      "text/plain": [
       "RandomForestClassifier(oob_score=True)"
      ]
     },
     "execution_count": 170,
     "metadata": {},
     "output_type": "execute_result"
    }
   ],
   "source": [
    "RF = RandomForestClassifier(oob_score=True)\n",
    "RF.fit(X_train, y_train) #fitting model to unscaled data"
   ]
  },
  {
   "cell_type": "markdown",
   "metadata": {},
   "source": [
    "***Model prediction***"
   ]
  },
  {
   "cell_type": "code",
   "execution_count": 171,
   "metadata": {},
   "outputs": [],
   "source": [
    "y_pred_RF = RF.predict(X_test)"
   ]
  },
  {
   "cell_type": "markdown",
   "metadata": {},
   "source": [
    "***Model Evaluation***"
   ]
  },
  {
   "cell_type": "code",
   "execution_count": 176,
   "metadata": {},
   "outputs": [
    {
     "name": "stdout",
     "output_type": "stream",
     "text": [
      "OOB accuracy: 0.843\n"
     ]
    }
   ],
   "source": [
    "print('OOB accuracy: {:.3F}'.format(RF.oob_score_))"
   ]
  },
  {
   "cell_type": "code",
   "execution_count": 177,
   "metadata": {},
   "outputs": [
    {
     "name": "stdout",
     "output_type": "stream",
     "text": [
      "RandomForest performance: \n",
      "\n",
      "Unscaled independent features\n",
      "Accuracy of traning set:  1.0\n",
      "Accuracy of test set 0.893719806763285\n",
      "Confusion matrix: \n",
      " [[109   6]\n",
      " [ 16  76]]\n",
      "Precision:  0.926829268292683\n",
      "Recall:  0.8260869565217391\n",
      "F1 score:  0.8735632183908046\n"
     ]
    }
   ],
   "source": [
    "print(\"RandomForest performance: \\n\")\n",
    "print(\"Unscaled independent features\")\n",
    "print(\"Accuracy of traning set: \", RF.score(X_train, y_train))\n",
    "print('Accuracy of test set', RF.score(X_test, y_test))\n",
    "print(\"Confusion matrix: \\n\", confusion_matrix(y_test, y_pred_RF))\n",
    "print(\"Precision: \", precision_score(y_test, y_pred_RF))\n",
    "print(\"Recall: \", recall_score(y_test, y_pred_RF))\n",
    "print(\"F1 score: \", f1_score(y_test, y_pred_RF))"
   ]
  },
  {
   "cell_type": "markdown",
   "metadata": {},
   "source": [
    "#### From the Random Forest evalation, the ensemble model fit perfectly to the training data (i.e high bias) but high variance to the test data. \n",
    "\n",
    "#### We will try and find the important features directly influencing our Random Forest model"
   ]
  },
  {
   "cell_type": "code",
   "execution_count": 214,
   "metadata": {},
   "outputs": [
    {
     "data": {
      "image/png": "[encoded data removed]",
      "text/plain": [
       "<Figure size 576x432 with 1 Axes>"
      ]
     },
     "metadata": {},
     "output_type": "display_data"
    }
   ],
   "source": [
    "important_rf = pd.Series(RF.feature_importances_, index = X.columns)\n",
    "sorted_important_rf = important_rf.sort_values()\n",
    "sorted_important_rf.plot(kind = 'barh', color = 'red', figsize = (8, 6))\n",
    "plt.show()"
   ]
  },
  {
   "cell_type": "markdown",
   "metadata": {},
   "source": [
    "#### Just as we obseved in the Exploratory data analysis section, the most important features responsible for separating those who got approved of a credit card and those who didnt is Prior Default. "
   ]
  },
  {
   "cell_type": "markdown",
   "metadata": {},
   "source": [
    "#### We will try To reduce variance to the test data using hyperparameter tuning"
   ]
  },
  {
   "cell_type": "markdown",
   "metadata": {},
   "source": [
    "***Model Building and prediction***"
   ]
  },
  {
   "cell_type": "code",
   "execution_count": 203,
   "metadata": {},
   "outputs": [],
   "source": [
    " params_dt_rf = {\n",
    "     'max_depth' : [3, 4, 5, 6], \n",
    "     'min_samples_leaf' : [0.04, 0.06, 0.08], \n",
    "     'max_features' : [0.2, 0.4, 0.6, 0.8]\n",
    " }"
   ]
  },
  {
   "cell_type": "code",
   "execution_count": 204,
   "metadata": {},
   "outputs": [],
   "source": [
    "RF_grid_dt = GridSearchCV(estimator = DecisionTreeClassifier(), \n",
    "                         param_grid = params_dt_rf, \n",
    "                         cv = 10, n_jobs=-1)"
   ]
  },
  {
   "cell_type": "code",
   "execution_count": 205,
   "metadata": {},
   "outputs": [
    {
     "data": {
      "text/plain": [
       "GridSearchCV(cv=10, estimator=DecisionTreeClassifier(), n_jobs=-1,\n",
       "             param_grid={'max_depth': [3, 4, 5, 6],\n",
       "                         'max_features': [0.2, 0.4, 0.6, 0.8],\n",
       "                         'min_samples_leaf': [0.04, 0.06, 0.08]})"
      ]
     },
     "execution_count": 205,
     "metadata": {},
     "output_type": "execute_result"
    }
   ],
   "source": [
    "RF_grid_dt.fit(X_train, y_train)"
   ]
  },
  {
   "cell_type": "markdown",
   "metadata": {},
   "source": [
    "***Evaluation***"
   ]
  },
  {
   "cell_type": "code",
   "execution_count": 206,
   "metadata": {},
   "outputs": [
    {
     "name": "stdout",
     "output_type": "stream",
     "text": [
      "Best hyperparameter for RandomForestClassifier: {'max_depth': 3, 'max_features': 0.6, 'min_samples_leaf': 0.04}\n"
     ]
    }
   ],
   "source": [
    "print('Best hyperparameter for RandomForestClassifier: {}'.format(RF_grid_dt.best_params_))"
   ]
  },
  {
   "cell_type": "code",
   "execution_count": 207,
   "metadata": {},
   "outputs": [
    {
     "name": "stdout",
     "output_type": "stream",
     "text": [
      "Best cv score: 0.8387755102040817\n"
     ]
    }
   ],
   "source": [
    "print('Best cv score: {}'.format(RF_grid_dt.best_score_))"
   ]
  },
  {
   "cell_type": "code",
   "execution_count": 210,
   "metadata": {},
   "outputs": [],
   "source": [
    "#extract RF best model and predict\n",
    "RF_best_model = RF_grid_dt.best_estimator_\n",
    "y_pred_RFdt = RF_best_model.predict(X_test)"
   ]
  },
  {
   "cell_type": "code",
   "execution_count": 211,
   "metadata": {},
   "outputs": [
    {
     "name": "stdout",
     "output_type": "stream",
     "text": [
      "RandomForest performance following hyperparameter tuning: \n",
      "\n",
      "Unscaled independent features\n",
      "Accuracy of traning set:  0.855072463768116\n",
      "Accuracy of test set 0.8599033816425121\n",
      "Confusion matrix: \n",
      " [[108   7]\n",
      " [ 22  70]]\n",
      "Precision:  0.9090909090909091\n",
      "Recall:  0.7608695652173914\n",
      "F1 score:  0.8284023668639053\n"
     ]
    }
   ],
   "source": [
    "print(\"RandomForest performance following hyperparameter tuning: \\n\")\n",
    "print(\"Unscaled independent features\")\n",
    "print(\"Accuracy of traning set: \", RF_best_model.score(X_train, y_train))\n",
    "print('Accuracy of test set', RF_best_model.score(X_test, y_test))\n",
    "print(\"Confusion matrix: \\n\", confusion_matrix(y_test, y_pred_RFdt))\n",
    "print(\"Precision: \", precision_score(y_test, y_pred_RFdt))\n",
    "print(\"Recall: \", recall_score(y_test, y_pred_RFdt))\n",
    "print(\"F1 score: \", f1_score(y_test, y_pred_RFdt))"
   ]
  },
  {
   "cell_type": "markdown",
   "metadata": {},
   "source": [
    "#### Hyperparametuning reduced variance but consequently increased bias of the best model (obtained via grid search) to the training data "
   ]
  },
  {
   "cell_type": "markdown",
   "metadata": {},
   "source": [
    "## Conclusion"
   ]
  },
  {
   "cell_type": "markdown",
   "metadata": {},
   "source": [
    "#### In this project, we used applicant information dataset to build credit card approval predictor. Four base machine learning model was used for this project (Logistic regression, support vector classifier, K-Nearest neighbors, Decision tree). We also used 2 ensemble learning model (Voting Classifier and Random Forest). We achieved the best prediction performance using Logistic regression on unscaled data. \n",
    "\n",
    "#### Based on the confusion matrix, the Logistic regression model on unscaled data gave the least number of false positive (12) and false negative (8).\n",
    "\n",
    "#### However, the KNN model on unscaled data resulted in similar accuracy score on both training and test data. \n",
    "\n",
    "#### By doing exploratory data visualization and Random Forest classifier, the feature highly responsible for credit card approval is Prior_Default. Most of the customers with prior default were not approved a credit and vice versa. "
   ]
  },
  {
   "cell_type": "markdown",
   "metadata": {},
   "source": [
    "## Future Work"
   ]
  },
  {
   "cell_type": "markdown",
   "metadata": {},
   "source": [
    "#### Reduce error (FP and FN) by trying different boosting techniqes such as AdaBoost, Gradient Boost and XGBoost. "
   ]
  },
  {
   "cell_type": "code",
   "execution_count": null,
   "metadata": {},
   "outputs": [],
   "source": []
  }
 ],
 "metadata": {
  "kernelspec": {
   "display_name": "Python 3",
   "language": "python",
   "name": "python3"
  },
  "language_info": {
   "codemirror_mode": {
    "name": "ipython",
    "version": 3
   },
   "file_extension": ".py",
   "mimetype": "text/x-python",
   "name": "python",
   "nbconvert_exporter": "python",
   "pygments_lexer": "ipython3",
   "version": "3.7.6"
  }
 },
 "nbformat": 4,
 "nbformat_minor": 4
}

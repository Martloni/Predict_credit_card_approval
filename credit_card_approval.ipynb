{
 "cells": [
  {
   "cell_type": "markdown",
   "metadata": {},
   "source": [
    "## Credit card applications"
   ]
  },
  {
   "cell_type": "markdown",
   "metadata": {},
   "source": [
    "Commercial banks receive a lot of applications for credit cards. Many of them get rejected for many reasons, like high loan balances, low income levels, or too many inquiries on an individual's credit report. I just recently got a credit card, and the analysis of this dataset will give me a general idea of the most important features that makes one qualify for credit card"
   ]
  },
  {
   "cell_type": "markdown",
   "metadata": {},
   "source": [
    "For this project, we will use [Credit Card approval dataset](http://archive.ics.uci.edu/ml/datasets/credit+approval) from the UCI machine learning repository, and compare different machine learning algorithms in predicting approval status. The metric for comparison that will be used is accuracy score. "
   ]
  },
  {
   "cell_type": "code",
   "execution_count": 1,
   "metadata": {},
   "outputs": [],
   "source": [
    "#necessary imports\n",
    "\n",
    "import numpy as np\n",
    "import pandas as pd\n",
    "import matplotlib.pyplot as plt\n",
    "import seaborn as sns\n",
    "%matplotlib inline\n",
    "\n",
    "#ignore warnings\n",
    "import warnings\n",
    "warnings.filterwarnings('ignore')\n",
    "from sklearn.utils.testing import ignore_warnings\n",
    "# from sklearn.exceptions import ConvergenceWarning\n",
    "# with warnings.catch_warnings():\n",
    "#     warnings.filterwarnings(\"ignore\", category=ConvergenceWarning)"
   ]
  },
  {
   "cell_type": "markdown",
   "metadata": {},
   "source": [
    "## Load Dataset"
   ]
  },
  {
   "cell_type": "code",
   "execution_count": 2,
   "metadata": {},
   "outputs": [],
   "source": [
    "#load dataset\n",
    "cc_apps = pd.read_csv('crx.data', names = [\"Gender\", \"Age\", \"Debt\", \"Married\", \"BankCustomer\", \"EducationLevel\", \"Ethnicity\", \"YearsEmployed\", \"PriorDefault\", \"Employed\", \\\n",
    "                                         \"CreditScore\", \"DriversLicense\", \"Citizen\", \"ZipCode\", \"Income\", \"ApprovalStatus\"])"
   ]
  },
  {
   "cell_type": "code",
   "execution_count": 3,
   "metadata": {},
   "outputs": [
    {
     "data": {
      "text/html": [
       "<div>\n",
       "<style scoped>\n",
       "    .dataframe tbody tr th:only-of-type {\n",
       "        vertical-align: middle;\n",
       "    }\n",
       "\n",
       "    .dataframe tbody tr th {\n",
       "        vertical-align: top;\n",
       "    }\n",
       "\n",
       "    .dataframe thead th {\n",
       "        text-align: right;\n",
       "    }\n",
       "</style>\n",
       "<table border=\"1\" class=\"dataframe\">\n",
       "  <thead>\n",
       "    <tr style=\"text-align: right;\">\n",
       "      <th></th>\n",
       "      <th>Gender</th>\n",
       "      <th>Age</th>\n",
       "      <th>Debt</th>\n",
       "      <th>Married</th>\n",
       "      <th>BankCustomer</th>\n",
       "      <th>EducationLevel</th>\n",
       "      <th>Ethnicity</th>\n",
       "      <th>YearsEmployed</th>\n",
       "      <th>PriorDefault</th>\n",
       "      <th>Employed</th>\n",
       "      <th>CreditScore</th>\n",
       "      <th>DriversLicense</th>\n",
       "      <th>Citizen</th>\n",
       "      <th>ZipCode</th>\n",
       "      <th>Income</th>\n",
       "      <th>ApprovalStatus</th>\n",
       "    </tr>\n",
       "  </thead>\n",
       "  <tbody>\n",
       "    <tr>\n",
       "      <th>0</th>\n",
       "      <td>b</td>\n",
       "      <td>30.83</td>\n",
       "      <td>0.000</td>\n",
       "      <td>u</td>\n",
       "      <td>g</td>\n",
       "      <td>w</td>\n",
       "      <td>v</td>\n",
       "      <td>1.25</td>\n",
       "      <td>t</td>\n",
       "      <td>t</td>\n",
       "      <td>1</td>\n",
       "      <td>f</td>\n",
       "      <td>g</td>\n",
       "      <td>00202</td>\n",
       "      <td>0</td>\n",
       "      <td>+</td>\n",
       "    </tr>\n",
       "    <tr>\n",
       "      <th>1</th>\n",
       "      <td>a</td>\n",
       "      <td>58.67</td>\n",
       "      <td>4.460</td>\n",
       "      <td>u</td>\n",
       "      <td>g</td>\n",
       "      <td>q</td>\n",
       "      <td>h</td>\n",
       "      <td>3.04</td>\n",
       "      <td>t</td>\n",
       "      <td>t</td>\n",
       "      <td>6</td>\n",
       "      <td>f</td>\n",
       "      <td>g</td>\n",
       "      <td>00043</td>\n",
       "      <td>560</td>\n",
       "      <td>+</td>\n",
       "    </tr>\n",
       "    <tr>\n",
       "      <th>2</th>\n",
       "      <td>a</td>\n",
       "      <td>24.50</td>\n",
       "      <td>0.500</td>\n",
       "      <td>u</td>\n",
       "      <td>g</td>\n",
       "      <td>q</td>\n",
       "      <td>h</td>\n",
       "      <td>1.50</td>\n",
       "      <td>t</td>\n",
       "      <td>f</td>\n",
       "      <td>0</td>\n",
       "      <td>f</td>\n",
       "      <td>g</td>\n",
       "      <td>00280</td>\n",
       "      <td>824</td>\n",
       "      <td>+</td>\n",
       "    </tr>\n",
       "    <tr>\n",
       "      <th>3</th>\n",
       "      <td>b</td>\n",
       "      <td>27.83</td>\n",
       "      <td>1.540</td>\n",
       "      <td>u</td>\n",
       "      <td>g</td>\n",
       "      <td>w</td>\n",
       "      <td>v</td>\n",
       "      <td>3.75</td>\n",
       "      <td>t</td>\n",
       "      <td>t</td>\n",
       "      <td>5</td>\n",
       "      <td>t</td>\n",
       "      <td>g</td>\n",
       "      <td>00100</td>\n",
       "      <td>3</td>\n",
       "      <td>+</td>\n",
       "    </tr>\n",
       "    <tr>\n",
       "      <th>4</th>\n",
       "      <td>b</td>\n",
       "      <td>20.17</td>\n",
       "      <td>5.625</td>\n",
       "      <td>u</td>\n",
       "      <td>g</td>\n",
       "      <td>w</td>\n",
       "      <td>v</td>\n",
       "      <td>1.71</td>\n",
       "      <td>t</td>\n",
       "      <td>f</td>\n",
       "      <td>0</td>\n",
       "      <td>f</td>\n",
       "      <td>s</td>\n",
       "      <td>00120</td>\n",
       "      <td>0</td>\n",
       "      <td>+</td>\n",
       "    </tr>\n",
       "  </tbody>\n",
       "</table>\n",
       "</div>"
      ],
      "text/plain": [
       "  Gender    Age   Debt Married BankCustomer EducationLevel Ethnicity  \\\n",
       "0      b  30.83  0.000       u            g              w         v   \n",
       "1      a  58.67  4.460       u            g              q         h   \n",
       "2      a  24.50  0.500       u            g              q         h   \n",
       "3      b  27.83  1.540       u            g              w         v   \n",
       "4      b  20.17  5.625       u            g              w         v   \n",
       "\n",
       "   YearsEmployed PriorDefault Employed  CreditScore DriversLicense Citizen  \\\n",
       "0           1.25            t        t            1              f       g   \n",
       "1           3.04            t        t            6              f       g   \n",
       "2           1.50            t        f            0              f       g   \n",
       "3           3.75            t        t            5              t       g   \n",
       "4           1.71            t        f            0              f       s   \n",
       "\n",
       "  ZipCode  Income ApprovalStatus  \n",
       "0   00202       0              +  \n",
       "1   00043     560              +  \n",
       "2   00280     824              +  \n",
       "3   00100       3              +  \n",
       "4   00120       0              +  "
      ]
     },
     "execution_count": 3,
     "metadata": {},
     "output_type": "execute_result"
    }
   ],
   "source": [
    "#inspect data\n",
    "cc_apps.head()"
   ]
  },
  {
   "cell_type": "code",
   "execution_count": 4,
   "metadata": {},
   "outputs": [
    {
     "data": {
      "text/plain": [
       "(690, 16)"
      ]
     },
     "execution_count": 4,
     "metadata": {},
     "output_type": "execute_result"
    }
   ],
   "source": [
    "#get number of rows and columns\n",
    "cc_apps.shape"
   ]
  },
  {
   "cell_type": "code",
   "execution_count": 5,
   "metadata": {},
   "outputs": [
    {
     "data": {
      "text/plain": [
       "Gender            0\n",
       "Age               0\n",
       "Debt              0\n",
       "Married           0\n",
       "BankCustomer      0\n",
       "EducationLevel    0\n",
       "Ethnicity         0\n",
       "YearsEmployed     0\n",
       "PriorDefault      0\n",
       "Employed          0\n",
       "CreditScore       0\n",
       "DriversLicense    0\n",
       "Citizen           0\n",
       "ZipCode           0\n",
       "Income            0\n",
       "ApprovalStatus    0\n",
       "dtype: int64"
      ]
     },
     "execution_count": 5,
     "metadata": {},
     "output_type": "execute_result"
    }
   ],
   "source": [
    "#check for missing values\n",
    "cc_apps.isna().sum()"
   ]
  },
  {
   "cell_type": "code",
   "execution_count": 6,
   "metadata": {},
   "outputs": [
    {
     "name": "stdout",
     "output_type": "stream",
     "text": [
      "<class 'pandas.core.frame.DataFrame'>\n",
      "RangeIndex: 690 entries, 0 to 689\n",
      "Data columns (total 16 columns):\n",
      " #   Column          Non-Null Count  Dtype  \n",
      "---  ------          --------------  -----  \n",
      " 0   Gender          690 non-null    object \n",
      " 1   Age             690 non-null    object \n",
      " 2   Debt            690 non-null    float64\n",
      " 3   Married         690 non-null    object \n",
      " 4   BankCustomer    690 non-null    object \n",
      " 5   EducationLevel  690 non-null    object \n",
      " 6   Ethnicity       690 non-null    object \n",
      " 7   YearsEmployed   690 non-null    float64\n",
      " 8   PriorDefault    690 non-null    object \n",
      " 9   Employed        690 non-null    object \n",
      " 10  CreditScore     690 non-null    int64  \n",
      " 11  DriversLicense  690 non-null    object \n",
      " 12  Citizen         690 non-null    object \n",
      " 13  ZipCode         690 non-null    object \n",
      " 14  Income          690 non-null    int64  \n",
      " 15  ApprovalStatus  690 non-null    object \n",
      "dtypes: float64(2), int64(2), object(12)\n",
      "memory usage: 86.4+ KB\n"
     ]
    }
   ],
   "source": [
    "# basic info\n",
    "cc_apps.info()"
   ]
  },
  {
   "cell_type": "code",
   "execution_count": 7,
   "metadata": {},
   "outputs": [
    {
     "data": {
      "text/html": [
       "<div>\n",
       "<style scoped>\n",
       "    .dataframe tbody tr th:only-of-type {\n",
       "        vertical-align: middle;\n",
       "    }\n",
       "\n",
       "    .dataframe tbody tr th {\n",
       "        vertical-align: top;\n",
       "    }\n",
       "\n",
       "    .dataframe thead th {\n",
       "        text-align: right;\n",
       "    }\n",
       "</style>\n",
       "<table border=\"1\" class=\"dataframe\">\n",
       "  <thead>\n",
       "    <tr style=\"text-align: right;\">\n",
       "      <th></th>\n",
       "      <th>count</th>\n",
       "      <th>mean</th>\n",
       "      <th>std</th>\n",
       "      <th>min</th>\n",
       "      <th>25%</th>\n",
       "      <th>50%</th>\n",
       "      <th>75%</th>\n",
       "      <th>max</th>\n",
       "    </tr>\n",
       "  </thead>\n",
       "  <tbody>\n",
       "    <tr>\n",
       "      <th>Debt</th>\n",
       "      <td>690.0</td>\n",
       "      <td>4.758725</td>\n",
       "      <td>4.978163</td>\n",
       "      <td>0.0</td>\n",
       "      <td>1.000</td>\n",
       "      <td>2.75</td>\n",
       "      <td>7.2075</td>\n",
       "      <td>28.0</td>\n",
       "    </tr>\n",
       "    <tr>\n",
       "      <th>YearsEmployed</th>\n",
       "      <td>690.0</td>\n",
       "      <td>2.223406</td>\n",
       "      <td>3.346513</td>\n",
       "      <td>0.0</td>\n",
       "      <td>0.165</td>\n",
       "      <td>1.00</td>\n",
       "      <td>2.6250</td>\n",
       "      <td>28.5</td>\n",
       "    </tr>\n",
       "    <tr>\n",
       "      <th>CreditScore</th>\n",
       "      <td>690.0</td>\n",
       "      <td>2.400000</td>\n",
       "      <td>4.862940</td>\n",
       "      <td>0.0</td>\n",
       "      <td>0.000</td>\n",
       "      <td>0.00</td>\n",
       "      <td>3.0000</td>\n",
       "      <td>67.0</td>\n",
       "    </tr>\n",
       "    <tr>\n",
       "      <th>Income</th>\n",
       "      <td>690.0</td>\n",
       "      <td>1017.385507</td>\n",
       "      <td>5210.102598</td>\n",
       "      <td>0.0</td>\n",
       "      <td>0.000</td>\n",
       "      <td>5.00</td>\n",
       "      <td>395.5000</td>\n",
       "      <td>100000.0</td>\n",
       "    </tr>\n",
       "  </tbody>\n",
       "</table>\n",
       "</div>"
      ],
      "text/plain": [
       "               count         mean          std  min    25%   50%       75%  \\\n",
       "Debt           690.0     4.758725     4.978163  0.0  1.000  2.75    7.2075   \n",
       "YearsEmployed  690.0     2.223406     3.346513  0.0  0.165  1.00    2.6250   \n",
       "CreditScore    690.0     2.400000     4.862940  0.0  0.000  0.00    3.0000   \n",
       "Income         690.0  1017.385507  5210.102598  0.0  0.000  5.00  395.5000   \n",
       "\n",
       "                    max  \n",
       "Debt               28.0  \n",
       "YearsEmployed      28.5  \n",
       "CreditScore        67.0  \n",
       "Income         100000.0  "
      ]
     },
     "execution_count": 7,
     "metadata": {},
     "output_type": "execute_result"
    }
   ],
   "source": [
    "#summary stats\n",
    "cc_apps.describe().transpose()"
   ]
  },
  {
   "cell_type": "markdown",
   "metadata": {},
   "source": [
    "## Inspecting and Cleaning data"
   ]
  },
  {
   "cell_type": "code",
   "execution_count": 8,
   "metadata": {},
   "outputs": [
    {
     "data": {
      "text/plain": [
       "Gender             object\n",
       "Age                object\n",
       "Debt              float64\n",
       "Married            object\n",
       "BankCustomer       object\n",
       "EducationLevel     object\n",
       "Ethnicity          object\n",
       "YearsEmployed     float64\n",
       "PriorDefault       object\n",
       "Employed           object\n",
       "CreditScore         int64\n",
       "DriversLicense     object\n",
       "Citizen            object\n",
       "ZipCode            object\n",
       "Income              int64\n",
       "ApprovalStatus     object\n",
       "dtype: object"
      ]
     },
     "execution_count": 8,
     "metadata": {},
     "output_type": "execute_result"
    }
   ],
   "source": [
    "cc_apps.dtypes"
   ]
  },
  {
   "cell_type": "code",
   "execution_count": 9,
   "metadata": {},
   "outputs": [
    {
     "name": "stdout",
     "output_type": "stream",
     "text": [
      "----Gender----\n",
      "b    468\n",
      "a    210\n",
      "?     12\n",
      "Name: Gender, dtype: int64\n",
      "\n",
      "\n",
      "----Married----\n",
      "u    519\n",
      "y    163\n",
      "?      6\n",
      "l      2\n",
      "Name: Married, dtype: int64\n",
      "\n",
      "\n",
      "----BankCustomer----\n",
      "g     519\n",
      "p     163\n",
      "?       6\n",
      "gg      2\n",
      "Name: BankCustomer, dtype: int64\n",
      "\n",
      "\n",
      "----EducationLevel----\n",
      "c     137\n",
      "q      78\n",
      "w      64\n",
      "i      59\n",
      "aa     54\n",
      "ff     53\n",
      "k      51\n",
      "cc     41\n",
      "x      38\n",
      "m      38\n",
      "d      30\n",
      "e      25\n",
      "j      10\n",
      "?       9\n",
      "r       3\n",
      "Name: EducationLevel, dtype: int64\n",
      "\n",
      "\n",
      "----Ethnicity----\n",
      "v     399\n",
      "h     138\n",
      "bb     59\n",
      "ff     57\n",
      "?       9\n",
      "j       8\n",
      "z       8\n",
      "dd      6\n",
      "n       4\n",
      "o       2\n",
      "Name: Ethnicity, dtype: int64\n",
      "\n",
      "\n",
      "----PriorDefault----\n",
      "t    361\n",
      "f    329\n",
      "Name: PriorDefault, dtype: int64\n",
      "\n",
      "\n",
      "----Employed----\n",
      "f    395\n",
      "t    295\n",
      "Name: Employed, dtype: int64\n",
      "\n",
      "\n",
      "----DriversLicense----\n",
      "f    374\n",
      "t    316\n",
      "Name: DriversLicense, dtype: int64\n",
      "\n",
      "\n",
      "----Citizen----\n",
      "g    625\n",
      "s     57\n",
      "p      8\n",
      "Name: Citizen, dtype: int64\n",
      "\n",
      "\n",
      "----ApprovalStatus----\n",
      "-    383\n",
      "+    307\n",
      "Name: ApprovalStatus, dtype: int64\n",
      "\n",
      "\n"
     ]
    }
   ],
   "source": [
    "#inspect the object columns aside Age and Zipcode\n",
    "\n",
    "for c in cc_apps.loc[:, cc_apps.dtypes == np.object].drop(['Age', 'ZipCode'], axis = 1).columns:\n",
    "    print(\"----{}----\".format(c))\n",
    "    print(cc_apps[c].value_counts())\n",
    "    print(\"\\n\")"
   ]
  },
  {
   "cell_type": "markdown",
   "metadata": {},
   "source": [
    "#### We observe from the value_counts that some of the object columns have \"?\" as their values. We deal with this by converting them to np.nan"
   ]
  },
  {
   "cell_type": "code",
   "execution_count": 10,
   "metadata": {},
   "outputs": [],
   "source": [
    "#Replace the '?' with Nan\n",
    "cc_apps = cc_apps.replace({\"--\" : np.nan, '?' : np.nan})"
   ]
  },
  {
   "cell_type": "markdown",
   "metadata": {},
   "source": [
    "#### Also, Age and Zipcode are of datatypes object but they should be numerical datatypes "
   ]
  },
  {
   "cell_type": "code",
   "execution_count": 11,
   "metadata": {},
   "outputs": [],
   "source": [
    "#change the object column to numerical columns\n",
    "cc_apps['Age'] = cc_apps['Age'].astype('float')\n",
    "cc_apps['ZipCode'] = cc_apps['ZipCode'].astype('float')"
   ]
  },
  {
   "cell_type": "code",
   "execution_count": 12,
   "metadata": {},
   "outputs": [],
   "source": [
    "#filling missing values with median values\n",
    "for col in cc_apps.columns:\n",
    "    if cc_apps[col].dtype.name in ['int', 'float64']:\n",
    "        cc_apps[col] = cc_apps[col].fillna(cc_apps[col].median())"
   ]
  },
  {
   "cell_type": "markdown",
   "metadata": {},
   "source": [
    "#### We replaced the NA values in all of our numerical columns with thier median values"
   ]
  },
  {
   "cell_type": "code",
   "execution_count": 13,
   "metadata": {},
   "outputs": [],
   "source": [
    "#convert the zipcode column to categorical column\n",
    "cc_apps['ZipCode'] = cc_apps['ZipCode'].astype('int').astype('category')"
   ]
  },
  {
   "cell_type": "code",
   "execution_count": 14,
   "metadata": {},
   "outputs": [
    {
     "data": {
      "text/plain": [
       "0      132\n",
       "160     47\n",
       "120     35\n",
       "200     35\n",
       "80      30\n",
       "Name: ZipCode, dtype: int64"
      ]
     },
     "execution_count": 14,
     "metadata": {},
     "output_type": "execute_result"
    }
   ],
   "source": [
    "#inspect the zipcode column\n",
    "cc_apps['ZipCode'].value_counts().head()"
   ]
  },
  {
   "cell_type": "code",
   "execution_count": 15,
   "metadata": {},
   "outputs": [
    {
     "data": {
      "text/plain": [
       "Gender            12\n",
       "Age                0\n",
       "Debt               0\n",
       "Married            6\n",
       "BankCustomer       6\n",
       "EducationLevel     9\n",
       "Ethnicity          9\n",
       "YearsEmployed      0\n",
       "PriorDefault       0\n",
       "Employed           0\n",
       "CreditScore        0\n",
       "DriversLicense     0\n",
       "Citizen            0\n",
       "ZipCode            0\n",
       "Income             0\n",
       "ApprovalStatus     0\n",
       "dtype: int64"
      ]
     },
     "execution_count": 15,
     "metadata": {},
     "output_type": "execute_result"
    }
   ],
   "source": [
    "cc_apps.isna().sum()"
   ]
  },
  {
   "cell_type": "code",
   "execution_count": 16,
   "metadata": {},
   "outputs": [
    {
     "data": {
      "text/plain": [
       "Gender              object\n",
       "Age                float64\n",
       "Debt               float64\n",
       "Married             object\n",
       "BankCustomer        object\n",
       "EducationLevel      object\n",
       "Ethnicity           object\n",
       "YearsEmployed      float64\n",
       "PriorDefault        object\n",
       "Employed            object\n",
       "CreditScore          int64\n",
       "DriversLicense      object\n",
       "Citizen             object\n",
       "ZipCode           category\n",
       "Income               int64\n",
       "ApprovalStatus      object\n",
       "dtype: object"
      ]
     },
     "execution_count": 16,
     "metadata": {},
     "output_type": "execute_result"
    }
   ],
   "source": [
    "cc_apps.dtypes"
   ]
  },
  {
   "cell_type": "markdown",
   "metadata": {},
   "source": [
    "#### Majority of the missing values are in the object columns. We will convert them with the most frequent values. "
   ]
  },
  {
   "cell_type": "code",
   "execution_count": 17,
   "metadata": {},
   "outputs": [],
   "source": [
    "for col in cc_apps.columns:\n",
    "    if cc_apps[col].dtype.name == 'object':\n",
    "        #impute with the most frequent value\n",
    "        cc_apps[col] = cc_apps[col].fillna(cc_apps[col].value_counts().idxmax())"
   ]
  },
  {
   "cell_type": "markdown",
   "metadata": {},
   "source": [
    "#### Check for missing value again"
   ]
  },
  {
   "cell_type": "code",
   "execution_count": 18,
   "metadata": {},
   "outputs": [
    {
     "data": {
      "text/plain": [
       "Gender            0\n",
       "Age               0\n",
       "Debt              0\n",
       "Married           0\n",
       "BankCustomer      0\n",
       "EducationLevel    0\n",
       "Ethnicity         0\n",
       "YearsEmployed     0\n",
       "PriorDefault      0\n",
       "Employed          0\n",
       "CreditScore       0\n",
       "DriversLicense    0\n",
       "Citizen           0\n",
       "ZipCode           0\n",
       "Income            0\n",
       "ApprovalStatus    0\n",
       "dtype: int64"
      ]
     },
     "execution_count": 18,
     "metadata": {},
     "output_type": "execute_result"
    }
   ],
   "source": [
    "cc_apps.isna().sum()"
   ]
  },
  {
   "cell_type": "code",
   "execution_count": 19,
   "metadata": {},
   "outputs": [
    {
     "name": "stdout",
     "output_type": "stream",
     "text": [
      "----Gender----\n",
      "b    480\n",
      "a    210\n",
      "Name: Gender, dtype: int64\n",
      "\n",
      "\n",
      "----Married----\n",
      "u    525\n",
      "y    163\n",
      "l      2\n",
      "Name: Married, dtype: int64\n",
      "\n",
      "\n",
      "----BankCustomer----\n",
      "g     525\n",
      "p     163\n",
      "gg      2\n",
      "Name: BankCustomer, dtype: int64\n",
      "\n",
      "\n",
      "----EducationLevel----\n",
      "c     146\n",
      "q      78\n",
      "w      64\n",
      "i      59\n",
      "aa     54\n",
      "ff     53\n",
      "k      51\n",
      "cc     41\n",
      "x      38\n",
      "m      38\n",
      "d      30\n",
      "e      25\n",
      "j      10\n",
      "r       3\n",
      "Name: EducationLevel, dtype: int64\n",
      "\n",
      "\n",
      "----Ethnicity----\n",
      "v     408\n",
      "h     138\n",
      "bb     59\n",
      "ff     57\n",
      "j       8\n",
      "z       8\n",
      "dd      6\n",
      "n       4\n",
      "o       2\n",
      "Name: Ethnicity, dtype: int64\n",
      "\n",
      "\n",
      "----PriorDefault----\n",
      "t    361\n",
      "f    329\n",
      "Name: PriorDefault, dtype: int64\n",
      "\n",
      "\n",
      "----Employed----\n",
      "f    395\n",
      "t    295\n",
      "Name: Employed, dtype: int64\n",
      "\n",
      "\n",
      "----DriversLicense----\n",
      "f    374\n",
      "t    316\n",
      "Name: DriversLicense, dtype: int64\n",
      "\n",
      "\n",
      "----Citizen----\n",
      "g    625\n",
      "s     57\n",
      "p      8\n",
      "Name: Citizen, dtype: int64\n",
      "\n",
      "\n",
      "----ApprovalStatus----\n",
      "-    383\n",
      "+    307\n",
      "Name: ApprovalStatus, dtype: int64\n",
      "\n",
      "\n"
     ]
    }
   ],
   "source": [
    "#check that missing values are now updated to the most frequent values\n",
    "for c in cc_apps.loc[:, cc_apps.dtypes == np.object].columns:\n",
    "    print(\"----{}----\".format(c))\n",
    "    print(cc_apps[c].value_counts())\n",
    "    print(\"\\n\")"
   ]
  },
  {
   "cell_type": "markdown",
   "metadata": {},
   "source": [
    "#### Check for any duplicated values:"
   ]
  },
  {
   "cell_type": "code",
   "execution_count": 20,
   "metadata": {},
   "outputs": [
    {
     "name": "stdout",
     "output_type": "stream",
     "text": [
      "Empty DataFrame\n",
      "Columns: [Gender, Age, Debt, Married, BankCustomer, EducationLevel, Ethnicity, YearsEmployed, PriorDefault, Employed, CreditScore, DriversLicense, Citizen, ZipCode, Income, ApprovalStatus]\n",
      "Index: []\n"
     ]
    }
   ],
   "source": [
    "#check for any duplicated values\n",
    "print(cc_apps[cc_apps.duplicated()])"
   ]
  },
  {
   "cell_type": "markdown",
   "metadata": {},
   "source": [
    "#### Check for value_counts of the dependent variable"
   ]
  },
  {
   "cell_type": "code",
   "execution_count": 21,
   "metadata": {},
   "outputs": [
    {
     "data": {
      "text/plain": [
       "-    383\n",
       "+    307\n",
       "Name: ApprovalStatus, dtype: int64"
      ]
     },
     "execution_count": 21,
     "metadata": {},
     "output_type": "execute_result"
    }
   ],
   "source": [
    "#check the value_counts of the approval status column\n",
    "cc_apps['ApprovalStatus'].value_counts()"
   ]
  },
  {
   "cell_type": "markdown",
   "metadata": {},
   "source": [
    "## Feature Engineering "
   ]
  },
  {
   "cell_type": "markdown",
   "metadata": {},
   "source": [
    "#### Both BankCustomer and Married columns have the same value counts. So, we will drop one of the column in order to reduce multicolinearity that can affect our machine learning model"
   ]
  },
  {
   "cell_type": "code",
   "execution_count": 22,
   "metadata": {},
   "outputs": [],
   "source": [
    "cc_apps = cc_apps.drop('BankCustomer', axis = 'columns')"
   ]
  },
  {
   "cell_type": "code",
   "execution_count": 23,
   "metadata": {},
   "outputs": [
    {
     "data": {
      "text/plain": [
       "162"
      ]
     },
     "execution_count": 23,
     "metadata": {},
     "output_type": "execute_result"
    }
   ],
   "source": [
    "#Get the number of people older than 34 who are likely to be married\n",
    "len(cc_apps['Age'].value_counts().sort_index().index[cc_apps['Age'].value_counts().sort_index().index > 34])"
   ]
  },
  {
   "cell_type": "code",
   "execution_count": 24,
   "metadata": {},
   "outputs": [
    {
     "data": {
      "text/plain": [
       "u    525\n",
       "y    163\n",
       "l      2\n",
       "Name: Married, dtype: int64"
      ]
     },
     "execution_count": 24,
     "metadata": {},
     "output_type": "execute_result"
    }
   ],
   "source": [
    "cc_apps['Married'].value_counts()"
   ]
  },
  {
   "cell_type": "markdown",
   "metadata": {},
   "source": [
    "#### To help make sense of the data, I will be making general assumptions to some of the column values in order to help with exploratory data analysis.\n",
    "#### First, conversion of some of the values in our independent columns. The gender will be changed from b and a to male and female. The PriorDefault, Employed, and DriversLicense columns will be changed from t and f to yes and no. Also, the values for married column will be converted from u, y, l to  single, married, and unknown. This assertion is based on the Age column where the number of people greater than 34 is 162, and the number of y is 163. We assume that people older than 34 should be married. "
   ]
  },
  {
   "cell_type": "code",
   "execution_count": 25,
   "metadata": {},
   "outputs": [],
   "source": [
    "#replace f with no and t with yes\n",
    "cc_apps[['Employed', 'DriversLicense', 'PriorDefault']] = cc_apps[['Employed', 'DriversLicense', 'PriorDefault']].replace({'f': 'no', 't': 'yes'})"
   ]
  },
  {
   "cell_type": "code",
   "execution_count": 26,
   "metadata": {},
   "outputs": [],
   "source": [
    "cc_apps['Married'] = cc_apps['Married'].replace({'u': 'single', 'y' : 'married', 'l' : 'unknown'})"
   ]
  },
  {
   "cell_type": "markdown",
   "metadata": {},
   "source": [
    "#### Conversion of the values in our dependent variable *ApprovalStatus* from + and - to 1 and 0 respectively:"
   ]
  },
  {
   "cell_type": "code",
   "execution_count": 27,
   "metadata": {},
   "outputs": [],
   "source": [
    "cc_apps['ApprovalStatus'] = cc_apps['ApprovalStatus'].replace({'+': 1, '-': 0})"
   ]
  },
  {
   "cell_type": "markdown",
   "metadata": {},
   "source": [
    "#### 1 means they were approved a credit card. 0 means they werent approved"
   ]
  },
  {
   "cell_type": "markdown",
   "metadata": {},
   "source": [
    "## Exploratory Data Visualization"
   ]
  },
  {
   "cell_type": "code",
   "execution_count": 28,
   "metadata": {},
   "outputs": [],
   "source": [
    "sns.set_style('whitegrid')"
   ]
  },
  {
   "cell_type": "code",
   "execution_count": 29,
   "metadata": {},
   "outputs": [
    {
     "data": {
      "text/html": [
       "<div>\n",
       "<style scoped>\n",
       "    .dataframe tbody tr th:only-of-type {\n",
       "        vertical-align: middle;\n",
       "    }\n",
       "\n",
       "    .dataframe tbody tr th {\n",
       "        vertical-align: top;\n",
       "    }\n",
       "\n",
       "    .dataframe thead th {\n",
       "        text-align: right;\n",
       "    }\n",
       "</style>\n",
       "<table border=\"1\" class=\"dataframe\">\n",
       "  <thead>\n",
       "    <tr style=\"text-align: right;\">\n",
       "      <th></th>\n",
       "      <th>Gender</th>\n",
       "      <th>Age</th>\n",
       "      <th>Debt</th>\n",
       "      <th>Married</th>\n",
       "      <th>EducationLevel</th>\n",
       "      <th>Ethnicity</th>\n",
       "      <th>YearsEmployed</th>\n",
       "      <th>PriorDefault</th>\n",
       "      <th>Employed</th>\n",
       "      <th>CreditScore</th>\n",
       "      <th>DriversLicense</th>\n",
       "      <th>Citizen</th>\n",
       "      <th>ZipCode</th>\n",
       "      <th>Income</th>\n",
       "      <th>ApprovalStatus</th>\n",
       "    </tr>\n",
       "  </thead>\n",
       "  <tbody>\n",
       "    <tr>\n",
       "      <th>0</th>\n",
       "      <td>b</td>\n",
       "      <td>30.83</td>\n",
       "      <td>0.000</td>\n",
       "      <td>single</td>\n",
       "      <td>w</td>\n",
       "      <td>v</td>\n",
       "      <td>1.25</td>\n",
       "      <td>yes</td>\n",
       "      <td>yes</td>\n",
       "      <td>1</td>\n",
       "      <td>no</td>\n",
       "      <td>g</td>\n",
       "      <td>202</td>\n",
       "      <td>0</td>\n",
       "      <td>1</td>\n",
       "    </tr>\n",
       "    <tr>\n",
       "      <th>1</th>\n",
       "      <td>a</td>\n",
       "      <td>58.67</td>\n",
       "      <td>4.460</td>\n",
       "      <td>single</td>\n",
       "      <td>q</td>\n",
       "      <td>h</td>\n",
       "      <td>3.04</td>\n",
       "      <td>yes</td>\n",
       "      <td>yes</td>\n",
       "      <td>6</td>\n",
       "      <td>no</td>\n",
       "      <td>g</td>\n",
       "      <td>43</td>\n",
       "      <td>560</td>\n",
       "      <td>1</td>\n",
       "    </tr>\n",
       "    <tr>\n",
       "      <th>2</th>\n",
       "      <td>a</td>\n",
       "      <td>24.50</td>\n",
       "      <td>0.500</td>\n",
       "      <td>single</td>\n",
       "      <td>q</td>\n",
       "      <td>h</td>\n",
       "      <td>1.50</td>\n",
       "      <td>yes</td>\n",
       "      <td>no</td>\n",
       "      <td>0</td>\n",
       "      <td>no</td>\n",
       "      <td>g</td>\n",
       "      <td>280</td>\n",
       "      <td>824</td>\n",
       "      <td>1</td>\n",
       "    </tr>\n",
       "    <tr>\n",
       "      <th>3</th>\n",
       "      <td>b</td>\n",
       "      <td>27.83</td>\n",
       "      <td>1.540</td>\n",
       "      <td>single</td>\n",
       "      <td>w</td>\n",
       "      <td>v</td>\n",
       "      <td>3.75</td>\n",
       "      <td>yes</td>\n",
       "      <td>yes</td>\n",
       "      <td>5</td>\n",
       "      <td>yes</td>\n",
       "      <td>g</td>\n",
       "      <td>100</td>\n",
       "      <td>3</td>\n",
       "      <td>1</td>\n",
       "    </tr>\n",
       "    <tr>\n",
       "      <th>4</th>\n",
       "      <td>b</td>\n",
       "      <td>20.17</td>\n",
       "      <td>5.625</td>\n",
       "      <td>single</td>\n",
       "      <td>w</td>\n",
       "      <td>v</td>\n",
       "      <td>1.71</td>\n",
       "      <td>yes</td>\n",
       "      <td>no</td>\n",
       "      <td>0</td>\n",
       "      <td>no</td>\n",
       "      <td>s</td>\n",
       "      <td>120</td>\n",
       "      <td>0</td>\n",
       "      <td>1</td>\n",
       "    </tr>\n",
       "  </tbody>\n",
       "</table>\n",
       "</div>"
      ],
      "text/plain": [
       "  Gender    Age   Debt Married EducationLevel Ethnicity  YearsEmployed  \\\n",
       "0      b  30.83  0.000  single              w         v           1.25   \n",
       "1      a  58.67  4.460  single              q         h           3.04   \n",
       "2      a  24.50  0.500  single              q         h           1.50   \n",
       "3      b  27.83  1.540  single              w         v           3.75   \n",
       "4      b  20.17  5.625  single              w         v           1.71   \n",
       "\n",
       "  PriorDefault Employed  CreditScore DriversLicense Citizen ZipCode  Income  \\\n",
       "0          yes      yes            1             no       g     202       0   \n",
       "1          yes      yes            6             no       g      43     560   \n",
       "2          yes       no            0             no       g     280     824   \n",
       "3          yes      yes            5            yes       g     100       3   \n",
       "4          yes       no            0             no       s     120       0   \n",
       "\n",
       "   ApprovalStatus  \n",
       "0               1  \n",
       "1               1  \n",
       "2               1  \n",
       "3               1  \n",
       "4               1  "
      ]
     },
     "execution_count": 29,
     "metadata": {},
     "output_type": "execute_result"
    }
   ],
   "source": [
    "cc_apps.head()"
   ]
  },
  {
   "cell_type": "markdown",
   "metadata": {},
   "source": [
    "#### How many people were approved and how many weren't?:"
   ]
  },
  {
   "cell_type": "code",
   "execution_count": 30,
   "metadata": {},
   "outputs": [
    {
     "data": {
      "image/png": "[encoded data removed]",
      "text/plain": [
       "<Figure size 576x432 with 1 Axes>"
      ]
     },
     "metadata": {},
     "output_type": "display_data"
    }
   ],
   "source": [
    "plt.figure(figsize = (8, 6))\n",
    "ax = sns.countplot(cc_apps['ApprovalStatus'])\n",
    "ax.set_ylabel('Number of applicants')\n",
    "plt.title('Approval Status of applicants', size = 18)\n",
    "plt.show()"
   ]
  },
  {
   "cell_type": "markdown",
   "metadata": {},
   "source": [
    "#### From the figure above, just over 380 people got denied a credit card and 307 got approved of a credit card"
   ]
  },
  {
   "cell_type": "markdown",
   "metadata": {},
   "source": [
    "#### How is the age distribution of credit card applicants in this data?"
   ]
  },
  {
   "cell_type": "code",
   "execution_count": 31,
   "metadata": {},
   "outputs": [
    {
     "data": {
      "image/png": "[encoded data removed]",
      "text/plain": [
       "<Figure size 576x432 with 1 Axes>"
      ]
     },
     "metadata": {},
     "output_type": "display_data"
    }
   ],
   "source": [
    "plt.figure(figsize = (8, 6))\n",
    "cc_apps['Age'].plot(kind = 'hist', bins = 50)\n",
    "plt.xlabel('Age', fontsize = 15)\n",
    "plt.ylabel('Frequency', fontsize = 15)\n",
    "plt.title('Age distribution of applicants', size = 18)\n",
    "plt.show()"
   ]
  },
  {
   "cell_type": "code",
   "execution_count": 32,
   "metadata": {},
   "outputs": [
    {
     "name": "stdout",
     "output_type": "stream",
     "text": [
      "80.25\n",
      "13.75\n"
     ]
    }
   ],
   "source": [
    "print(cc_apps['Age'].max())\n",
    "print(cc_apps['Age'].min())"
   ]
  },
  {
   "cell_type": "code",
   "execution_count": 33,
   "metadata": {},
   "outputs": [],
   "source": [
    "## Create an Age_group column from the Age column to help understand the data\n",
    "age_group = ['13-25', '25-50', '50+']\n",
    "#creates age groups \n",
    "cc_apps['Age_group'] = pd.qcut(cc_apps['Age'], q = 3, labels = age_group)"
   ]
  },
  {
   "cell_type": "code",
   "execution_count": 34,
   "metadata": {},
   "outputs": [
    {
     "data": {
      "image/png": "[encoded data removed]",
      "text/plain": [
       "<Figure size 576x432 with 1 Axes>"
      ]
     },
     "metadata": {},
     "output_type": "display_data"
    }
   ],
   "source": [
    "pd.pivot_table(data = cc_apps, index = ['Age_group'], columns = 'ApprovalStatus', aggfunc='size', fill_value=0).plot(kind = 'bar', figsize = (8,6))\n",
    "plt.xlabel('Age_group', fontsize = 15)\n",
    "plt.ylabel('Number of applicants', fontsize = 15)\n",
    "plt.title('Age groups of Applicants', size = 18)\n",
    "plt.show()"
   ]
  },
  {
   "cell_type": "markdown",
   "metadata": {},
   "source": [
    "#### From the figure above, majority of the individuals that applied for credit card are within the age group 13-25 and 25-50. More people above 50 got approved of a credit card.¶\n"
   ]
  },
  {
   "cell_type": "markdown",
   "metadata": {},
   "source": [
    "#### How does current job employment affect credit card approval?"
   ]
  },
  {
   "cell_type": "code",
   "execution_count": 35,
   "metadata": {},
   "outputs": [
    {
     "data": {
      "image/png": "[encoded data removed]",
      "text/plain": [
       "<Figure size 576x432 with 1 Axes>"
      ]
     },
     "metadata": {},
     "output_type": "display_data"
    }
   ],
   "source": [
    "cc_apps.groupby(['Employed', 'ApprovalStatus'])['ApprovalStatus'].count().unstack('ApprovalStatus').fillna(0).plot(kind = 'bar', figsize = (8,6))\n",
    "plt.xlabel('Employed', fontsize = 15)\n",
    "plt.title('Employment status of Applicants', size = 18)\n",
    "plt.show()"
   ]
  },
  {
   "cell_type": "markdown",
   "metadata": {},
   "source": [
    "#### From the figure above, majority of the individual who got approved of a credit card were employed or had a job"
   ]
  },
  {
   "cell_type": "markdown",
   "metadata": {},
   "source": [
    "#### How does Credit score and Income affect credit card approval?"
   ]
  },
  {
   "cell_type": "code",
   "execution_count": 36,
   "metadata": {},
   "outputs": [
    {
     "data": {
      "image/png": "[encoded data removed]",
      "text/plain": [
       "<Figure size 968.25x432 with 2 Axes>"
      ]
     },
     "metadata": {},
     "output_type": "display_data"
    }
   ],
   "source": [
    "plt.rcParams[\"axes.labelsize\"] = 15\n",
    "a = sns.relplot(x='CreditScore', y = 'Income', hue = 'ApprovalStatus',  data = cc_apps, height = 6, aspect = 1, col = 'PriorDefault')\n",
    "a.set_axis_labels('CreditScore', 'Income')\n",
    "a.fig.suptitle('The effect of income, credit score, and prior default on credit card approval', position = [.5, 1.05], size = 20)\n",
    "plt.savefig('prior_default_figure.png', bbox_inches = 'tight')\n",
    "plt.show()"
   ]
  },
  {
   "cell_type": "markdown",
   "metadata": {},
   "source": [
    "From the figure above, we deduce that applicants with high income and/or high credit score are likely to be approved to a credit card. **However, the most important feature that separates the dependendent variable - ApprovalStatus is PriorDefault. The figure shows that most people with PriorDefault are denied a credit card.** "
   ]
  },
  {
   "cell_type": "markdown",
   "metadata": {},
   "source": [
    "### Data Preprocessing"
   ]
  },
  {
   "cell_type": "code",
   "execution_count": 37,
   "metadata": {},
   "outputs": [
    {
     "name": "stdout",
     "output_type": "stream",
     "text": [
      "<class 'pandas.core.frame.DataFrame'>\n",
      "RangeIndex: 690 entries, 0 to 689\n",
      "Data columns (total 16 columns):\n",
      " #   Column          Non-Null Count  Dtype   \n",
      "---  ------          --------------  -----   \n",
      " 0   Gender          690 non-null    object  \n",
      " 1   Age             690 non-null    float64 \n",
      " 2   Debt            690 non-null    float64 \n",
      " 3   Married         690 non-null    object  \n",
      " 4   EducationLevel  690 non-null    object  \n",
      " 5   Ethnicity       690 non-null    object  \n",
      " 6   YearsEmployed   690 non-null    float64 \n",
      " 7   PriorDefault    690 non-null    object  \n",
      " 8   Employed        690 non-null    object  \n",
      " 9   CreditScore     690 non-null    int64   \n",
      " 10  DriversLicense  690 non-null    object  \n",
      " 11  Citizen         690 non-null    object  \n",
      " 12  ZipCode         690 non-null    category\n",
      " 13  Income          690 non-null    int64   \n",
      " 14  ApprovalStatus  690 non-null    int64   \n",
      " 15  Age_group       690 non-null    category\n",
      "dtypes: category(2), float64(3), int64(3), object(8)\n",
      "memory usage: 84.0+ KB\n"
     ]
    }
   ],
   "source": [
    "cc_apps.info()"
   ]
  },
  {
   "cell_type": "code",
   "execution_count": 38,
   "metadata": {},
   "outputs": [
    {
     "data": {
      "text/html": [
       "<div>\n",
       "<style scoped>\n",
       "    .dataframe tbody tr th:only-of-type {\n",
       "        vertical-align: middle;\n",
       "    }\n",
       "\n",
       "    .dataframe tbody tr th {\n",
       "        vertical-align: top;\n",
       "    }\n",
       "\n",
       "    .dataframe thead th {\n",
       "        text-align: right;\n",
       "    }\n",
       "</style>\n",
       "<table border=\"1\" class=\"dataframe\">\n",
       "  <thead>\n",
       "    <tr style=\"text-align: right;\">\n",
       "      <th></th>\n",
       "      <th>Gender</th>\n",
       "      <th>Married</th>\n",
       "      <th>EducationLevel</th>\n",
       "      <th>Ethnicity</th>\n",
       "      <th>PriorDefault</th>\n",
       "      <th>Employed</th>\n",
       "      <th>Citizen</th>\n",
       "      <th>DriversLicense</th>\n",
       "      <th>Age_group</th>\n",
       "    </tr>\n",
       "  </thead>\n",
       "  <tbody>\n",
       "    <tr>\n",
       "      <th>0</th>\n",
       "      <td>b</td>\n",
       "      <td>single</td>\n",
       "      <td>w</td>\n",
       "      <td>v</td>\n",
       "      <td>yes</td>\n",
       "      <td>yes</td>\n",
       "      <td>g</td>\n",
       "      <td>no</td>\n",
       "      <td>25-50</td>\n",
       "    </tr>\n",
       "    <tr>\n",
       "      <th>1</th>\n",
       "      <td>a</td>\n",
       "      <td>single</td>\n",
       "      <td>q</td>\n",
       "      <td>h</td>\n",
       "      <td>yes</td>\n",
       "      <td>yes</td>\n",
       "      <td>g</td>\n",
       "      <td>no</td>\n",
       "      <td>50+</td>\n",
       "    </tr>\n",
       "    <tr>\n",
       "      <th>2</th>\n",
       "      <td>a</td>\n",
       "      <td>single</td>\n",
       "      <td>q</td>\n",
       "      <td>h</td>\n",
       "      <td>yes</td>\n",
       "      <td>no</td>\n",
       "      <td>g</td>\n",
       "      <td>no</td>\n",
       "      <td>25-50</td>\n",
       "    </tr>\n",
       "    <tr>\n",
       "      <th>3</th>\n",
       "      <td>b</td>\n",
       "      <td>single</td>\n",
       "      <td>w</td>\n",
       "      <td>v</td>\n",
       "      <td>yes</td>\n",
       "      <td>yes</td>\n",
       "      <td>g</td>\n",
       "      <td>yes</td>\n",
       "      <td>25-50</td>\n",
       "    </tr>\n",
       "    <tr>\n",
       "      <th>4</th>\n",
       "      <td>b</td>\n",
       "      <td>single</td>\n",
       "      <td>w</td>\n",
       "      <td>v</td>\n",
       "      <td>yes</td>\n",
       "      <td>no</td>\n",
       "      <td>s</td>\n",
       "      <td>no</td>\n",
       "      <td>13-25</td>\n",
       "    </tr>\n",
       "    <tr>\n",
       "      <th>...</th>\n",
       "      <td>...</td>\n",
       "      <td>...</td>\n",
       "      <td>...</td>\n",
       "      <td>...</td>\n",
       "      <td>...</td>\n",
       "      <td>...</td>\n",
       "      <td>...</td>\n",
       "      <td>...</td>\n",
       "      <td>...</td>\n",
       "    </tr>\n",
       "    <tr>\n",
       "      <th>685</th>\n",
       "      <td>b</td>\n",
       "      <td>married</td>\n",
       "      <td>e</td>\n",
       "      <td>h</td>\n",
       "      <td>no</td>\n",
       "      <td>no</td>\n",
       "      <td>g</td>\n",
       "      <td>no</td>\n",
       "      <td>13-25</td>\n",
       "    </tr>\n",
       "    <tr>\n",
       "      <th>686</th>\n",
       "      <td>a</td>\n",
       "      <td>single</td>\n",
       "      <td>c</td>\n",
       "      <td>v</td>\n",
       "      <td>no</td>\n",
       "      <td>yes</td>\n",
       "      <td>g</td>\n",
       "      <td>yes</td>\n",
       "      <td>13-25</td>\n",
       "    </tr>\n",
       "    <tr>\n",
       "      <th>687</th>\n",
       "      <td>a</td>\n",
       "      <td>married</td>\n",
       "      <td>ff</td>\n",
       "      <td>ff</td>\n",
       "      <td>no</td>\n",
       "      <td>yes</td>\n",
       "      <td>g</td>\n",
       "      <td>yes</td>\n",
       "      <td>25-50</td>\n",
       "    </tr>\n",
       "    <tr>\n",
       "      <th>688</th>\n",
       "      <td>b</td>\n",
       "      <td>single</td>\n",
       "      <td>aa</td>\n",
       "      <td>v</td>\n",
       "      <td>no</td>\n",
       "      <td>no</td>\n",
       "      <td>g</td>\n",
       "      <td>no</td>\n",
       "      <td>13-25</td>\n",
       "    </tr>\n",
       "    <tr>\n",
       "      <th>689</th>\n",
       "      <td>b</td>\n",
       "      <td>single</td>\n",
       "      <td>c</td>\n",
       "      <td>h</td>\n",
       "      <td>no</td>\n",
       "      <td>no</td>\n",
       "      <td>g</td>\n",
       "      <td>yes</td>\n",
       "      <td>50+</td>\n",
       "    </tr>\n",
       "  </tbody>\n",
       "</table>\n",
       "<p>690 rows × 9 columns</p>\n",
       "</div>"
      ],
      "text/plain": [
       "    Gender  Married EducationLevel Ethnicity PriorDefault Employed Citizen  \\\n",
       "0        b   single              w         v          yes      yes       g   \n",
       "1        a   single              q         h          yes      yes       g   \n",
       "2        a   single              q         h          yes       no       g   \n",
       "3        b   single              w         v          yes      yes       g   \n",
       "4        b   single              w         v          yes       no       s   \n",
       "..     ...      ...            ...       ...          ...      ...     ...   \n",
       "685      b  married              e         h           no       no       g   \n",
       "686      a   single              c         v           no      yes       g   \n",
       "687      a  married             ff        ff           no      yes       g   \n",
       "688      b   single             aa         v           no       no       g   \n",
       "689      b   single              c         h           no       no       g   \n",
       "\n",
       "    DriversLicense Age_group  \n",
       "0               no     25-50  \n",
       "1               no       50+  \n",
       "2               no     25-50  \n",
       "3              yes     25-50  \n",
       "4               no     13-25  \n",
       "..             ...       ...  \n",
       "685             no     13-25  \n",
       "686            yes     13-25  \n",
       "687            yes     25-50  \n",
       "688             no     13-25  \n",
       "689            yes       50+  \n",
       "\n",
       "[690 rows x 9 columns]"
      ]
     },
     "execution_count": 38,
     "metadata": {},
     "output_type": "execute_result"
    }
   ],
   "source": [
    "cc_apps[['Gender', 'Married', 'EducationLevel', 'Ethnicity', 'PriorDefault', 'Employed', 'Citizen', 'DriversLicense', 'Age_group']]"
   ]
  },
  {
   "cell_type": "code",
   "execution_count": 39,
   "metadata": {},
   "outputs": [
    {
     "data": {
      "text/plain": [
       "0       132\n",
       "160      47\n",
       "120      35\n",
       "200      35\n",
       "80       30\n",
       "       ... \n",
       "311       1\n",
       "600       1\n",
       "329       1\n",
       "333       1\n",
       "2000      1\n",
       "Name: ZipCode, Length: 170, dtype: int64"
      ]
     },
     "execution_count": 39,
     "metadata": {},
     "output_type": "execute_result"
    }
   ],
   "source": [
    "cc_apps['ZipCode'].value_counts()"
   ]
  },
  {
   "cell_type": "markdown",
   "metadata": {},
   "source": [
    "#### Drop ZipCode since it provides no relevant information here. "
   ]
  },
  {
   "cell_type": "code",
   "execution_count": 40,
   "metadata": {},
   "outputs": [],
   "source": [
    "cc_apps = cc_apps.drop('ZipCode', axis = 1)"
   ]
  },
  {
   "cell_type": "markdown",
   "metadata": {},
   "source": [
    "#### Here, we will use pd.get_dummies to convert all of our categorical columns into numeric columns. We could also use OneHotEncoder from Sklearn.preprocessing"
   ]
  },
  {
   "cell_type": "code",
   "execution_count": 41,
   "metadata": {},
   "outputs": [
    {
     "data": {
      "text/html": [
       "<div>\n",
       "<style scoped>\n",
       "    .dataframe tbody tr th:only-of-type {\n",
       "        vertical-align: middle;\n",
       "    }\n",
       "\n",
       "    .dataframe tbody tr th {\n",
       "        vertical-align: top;\n",
       "    }\n",
       "\n",
       "    .dataframe thead th {\n",
       "        text-align: right;\n",
       "    }\n",
       "</style>\n",
       "<table border=\"1\" class=\"dataframe\">\n",
       "  <thead>\n",
       "    <tr style=\"text-align: right;\">\n",
       "      <th></th>\n",
       "      <th>Gender</th>\n",
       "      <th>Married</th>\n",
       "      <th>EducationLevel</th>\n",
       "      <th>Ethnicity</th>\n",
       "      <th>PriorDefault</th>\n",
       "      <th>Employed</th>\n",
       "      <th>DriversLicense</th>\n",
       "      <th>Citizen</th>\n",
       "      <th>Age_group</th>\n",
       "    </tr>\n",
       "  </thead>\n",
       "  <tbody>\n",
       "    <tr>\n",
       "      <th>0</th>\n",
       "      <td>b</td>\n",
       "      <td>single</td>\n",
       "      <td>w</td>\n",
       "      <td>v</td>\n",
       "      <td>yes</td>\n",
       "      <td>yes</td>\n",
       "      <td>no</td>\n",
       "      <td>g</td>\n",
       "      <td>25-50</td>\n",
       "    </tr>\n",
       "    <tr>\n",
       "      <th>1</th>\n",
       "      <td>a</td>\n",
       "      <td>single</td>\n",
       "      <td>q</td>\n",
       "      <td>h</td>\n",
       "      <td>yes</td>\n",
       "      <td>yes</td>\n",
       "      <td>no</td>\n",
       "      <td>g</td>\n",
       "      <td>50+</td>\n",
       "    </tr>\n",
       "    <tr>\n",
       "      <th>2</th>\n",
       "      <td>a</td>\n",
       "      <td>single</td>\n",
       "      <td>q</td>\n",
       "      <td>h</td>\n",
       "      <td>yes</td>\n",
       "      <td>no</td>\n",
       "      <td>no</td>\n",
       "      <td>g</td>\n",
       "      <td>25-50</td>\n",
       "    </tr>\n",
       "    <tr>\n",
       "      <th>3</th>\n",
       "      <td>b</td>\n",
       "      <td>single</td>\n",
       "      <td>w</td>\n",
       "      <td>v</td>\n",
       "      <td>yes</td>\n",
       "      <td>yes</td>\n",
       "      <td>yes</td>\n",
       "      <td>g</td>\n",
       "      <td>25-50</td>\n",
       "    </tr>\n",
       "    <tr>\n",
       "      <th>4</th>\n",
       "      <td>b</td>\n",
       "      <td>single</td>\n",
       "      <td>w</td>\n",
       "      <td>v</td>\n",
       "      <td>yes</td>\n",
       "      <td>no</td>\n",
       "      <td>no</td>\n",
       "      <td>s</td>\n",
       "      <td>13-25</td>\n",
       "    </tr>\n",
       "    <tr>\n",
       "      <th>...</th>\n",
       "      <td>...</td>\n",
       "      <td>...</td>\n",
       "      <td>...</td>\n",
       "      <td>...</td>\n",
       "      <td>...</td>\n",
       "      <td>...</td>\n",
       "      <td>...</td>\n",
       "      <td>...</td>\n",
       "      <td>...</td>\n",
       "    </tr>\n",
       "    <tr>\n",
       "      <th>685</th>\n",
       "      <td>b</td>\n",
       "      <td>married</td>\n",
       "      <td>e</td>\n",
       "      <td>h</td>\n",
       "      <td>no</td>\n",
       "      <td>no</td>\n",
       "      <td>no</td>\n",
       "      <td>g</td>\n",
       "      <td>13-25</td>\n",
       "    </tr>\n",
       "    <tr>\n",
       "      <th>686</th>\n",
       "      <td>a</td>\n",
       "      <td>single</td>\n",
       "      <td>c</td>\n",
       "      <td>v</td>\n",
       "      <td>no</td>\n",
       "      <td>yes</td>\n",
       "      <td>yes</td>\n",
       "      <td>g</td>\n",
       "      <td>13-25</td>\n",
       "    </tr>\n",
       "    <tr>\n",
       "      <th>687</th>\n",
       "      <td>a</td>\n",
       "      <td>married</td>\n",
       "      <td>ff</td>\n",
       "      <td>ff</td>\n",
       "      <td>no</td>\n",
       "      <td>yes</td>\n",
       "      <td>yes</td>\n",
       "      <td>g</td>\n",
       "      <td>25-50</td>\n",
       "    </tr>\n",
       "    <tr>\n",
       "      <th>688</th>\n",
       "      <td>b</td>\n",
       "      <td>single</td>\n",
       "      <td>aa</td>\n",
       "      <td>v</td>\n",
       "      <td>no</td>\n",
       "      <td>no</td>\n",
       "      <td>no</td>\n",
       "      <td>g</td>\n",
       "      <td>13-25</td>\n",
       "    </tr>\n",
       "    <tr>\n",
       "      <th>689</th>\n",
       "      <td>b</td>\n",
       "      <td>single</td>\n",
       "      <td>c</td>\n",
       "      <td>h</td>\n",
       "      <td>no</td>\n",
       "      <td>no</td>\n",
       "      <td>yes</td>\n",
       "      <td>g</td>\n",
       "      <td>50+</td>\n",
       "    </tr>\n",
       "  </tbody>\n",
       "</table>\n",
       "<p>690 rows × 9 columns</p>\n",
       "</div>"
      ],
      "text/plain": [
       "    Gender  Married EducationLevel Ethnicity PriorDefault Employed  \\\n",
       "0        b   single              w         v          yes      yes   \n",
       "1        a   single              q         h          yes      yes   \n",
       "2        a   single              q         h          yes       no   \n",
       "3        b   single              w         v          yes      yes   \n",
       "4        b   single              w         v          yes       no   \n",
       "..     ...      ...            ...       ...          ...      ...   \n",
       "685      b  married              e         h           no       no   \n",
       "686      a   single              c         v           no      yes   \n",
       "687      a  married             ff        ff           no      yes   \n",
       "688      b   single             aa         v           no       no   \n",
       "689      b   single              c         h           no       no   \n",
       "\n",
       "    DriversLicense Citizen Age_group  \n",
       "0               no       g     25-50  \n",
       "1               no       g       50+  \n",
       "2               no       g     25-50  \n",
       "3              yes       g     25-50  \n",
       "4               no       s     13-25  \n",
       "..             ...     ...       ...  \n",
       "685             no       g     13-25  \n",
       "686            yes       g     13-25  \n",
       "687            yes       g     25-50  \n",
       "688             no       g     13-25  \n",
       "689            yes       g       50+  \n",
       "\n",
       "[690 rows x 9 columns]"
      ]
     },
     "execution_count": 41,
     "metadata": {},
     "output_type": "execute_result"
    }
   ],
   "source": [
    "cc_apps.select_dtypes(include=['object', 'category'])"
   ]
  },
  {
   "cell_type": "code",
   "execution_count": 42,
   "metadata": {},
   "outputs": [],
   "source": [
    "#converting categoricatical columns into dummy variables. \n",
    "cc_apps_cat_df = pd.get_dummies(data = cc_apps.select_dtypes(include=['object', 'category']), drop_first=True)"
   ]
  },
  {
   "cell_type": "code",
   "execution_count": 43,
   "metadata": {},
   "outputs": [],
   "source": [
    "#dataframe for numerical columns \n",
    "cc_app_num_df = cc_apps.select_dtypes(exclude = ['object', 'category'])"
   ]
  },
  {
   "cell_type": "code",
   "execution_count": 44,
   "metadata": {},
   "outputs": [],
   "source": [
    "#concatenate categorical with numerical column\n",
    "cc_apps_concat_df = pd.concat([cc_apps_cat_df, cc_app_num_df], axis = 'columns')"
   ]
  },
  {
   "cell_type": "code",
   "execution_count": 45,
   "metadata": {},
   "outputs": [],
   "source": [
    "# from sklearn.model_selection import train_test_split"
   ]
  },
  {
   "cell_type": "code",
   "execution_count": 46,
   "metadata": {},
   "outputs": [],
   "source": [
    "X = cc_apps_concat_df.drop('ApprovalStatus', axis = 'columns').values"
   ]
  },
  {
   "cell_type": "code",
   "execution_count": 47,
   "metadata": {},
   "outputs": [],
   "source": [
    "y = cc_apps_concat_df['ApprovalStatus'].values"
   ]
  },
  {
   "cell_type": "markdown",
   "metadata": {},
   "source": [
    "## Data Standardization"
   ]
  },
  {
   "cell_type": "code",
   "execution_count": 48,
   "metadata": {},
   "outputs": [],
   "source": [
    "from sklearn.preprocessing import StandardScaler\n",
    "sc = StandardScaler()"
   ]
  },
  {
   "cell_type": "code",
   "execution_count": 49,
   "metadata": {},
   "outputs": [
    {
     "data": {
      "text/plain": [
       "array([[1.00e+00, 1.00e+00, 0.00e+00, ..., 1.25e+00, 1.00e+00, 0.00e+00],\n",
       "       [0.00e+00, 1.00e+00, 0.00e+00, ..., 3.04e+00, 6.00e+00, 5.60e+02],\n",
       "       [0.00e+00, 1.00e+00, 0.00e+00, ..., 1.50e+00, 0.00e+00, 8.24e+02],\n",
       "       ...,\n",
       "       [0.00e+00, 0.00e+00, 0.00e+00, ..., 2.00e+00, 1.00e+00, 1.00e+00],\n",
       "       [1.00e+00, 1.00e+00, 0.00e+00, ..., 4.00e-02, 0.00e+00, 7.50e+02],\n",
       "       [1.00e+00, 1.00e+00, 0.00e+00, ..., 8.29e+00, 0.00e+00, 0.00e+00]])"
      ]
     },
     "execution_count": 49,
     "metadata": {},
     "output_type": "execute_result"
    }
   ],
   "source": [
    "X"
   ]
  },
  {
   "cell_type": "code",
   "execution_count": 50,
   "metadata": {},
   "outputs": [],
   "source": [
    "X[:, 31:] = sc.fit_transform(X[:, 31:])"
   ]
  },
  {
   "cell_type": "markdown",
   "metadata": {},
   "source": [
    "## Comparing machine learning algorithms"
   ]
  },
  {
   "cell_type": "markdown",
   "metadata": {},
   "source": [
    "#### In this section, I will be comparing the performance of different machine learning algorithms on how well each one fits to the training data and prediction with test data. The scoring metric for comparison here is 'accuracy'"
   ]
  },
  {
   "cell_type": "code",
   "execution_count": 51,
   "metadata": {},
   "outputs": [],
   "source": [
    "# import algorithms\n",
    "from sklearn import model_selection\n",
    "from sklearn.linear_model import LogisticRegression\n",
    "from sklearn.svm import SVC\n",
    "from sklearn.neighbors import KNeighborsClassifier\n",
    "from sklearn.naive_bayes import GaussianNB\n",
    "from sklearn.tree import DecisionTreeClassifier\n",
    "from sklearn.ensemble import RandomForestClassifier, AdaBoostClassifier"
   ]
  },
  {
   "cell_type": "code",
   "execution_count": 52,
   "metadata": {},
   "outputs": [
    {
     "name": "stdout",
     "output_type": "stream",
     "text": [
      "LR: mean = 0.8318840579710146; std = 0.17597807810620916\n",
      "Linear SVM: mean = 0.856521739130435; std = 0.19833903874707903\n",
      "RBF SVM: mean = 0.8318840579710145; std = 0.18505379361753468\n",
      "KNN: mean = 0.7782608695652173; std = 0.12109040403074964\n",
      "Decision Tree: mean = 0.7840579710144928; std = 0.1826834445585423\n",
      "NB: mean = 0.7202898550724637; std = 0.18020618777201064\n",
      "AdaBoost: mean = 0.8144927536231885; std = 0.1713335270276133\n",
      "Random Forest: mean = 0.8159420289855074; std = 0.1890790645989323\n"
     ]
    }
   ],
   "source": [
    "# prepare models\n",
    "models = []\n",
    "models.append(('LR', LogisticRegression()))\n",
    "models.append(('Linear SVM', SVC(kernel = 'linear', C = 0.025)))\n",
    "models.append(('RBF SVM', SVC()))\n",
    "models.append(('KNN', KNeighborsClassifier()))\n",
    "models.append(('Decision Tree', DecisionTreeClassifier(max_depth = 3)))\n",
    "models.append(('NB', GaussianNB()))\n",
    "models.append(('AdaBoost', AdaBoostClassifier(n_estimators=10)))\n",
    "models.append(('Random Forest', RandomForestClassifier(n_estimators = 20, max_depth = 5, max_features=20)))\n",
    "\n",
    "\n",
    "# prepare configuration for cross validation test harness\n",
    "random_state = 1\n",
    "\n",
    "# evaluate each model in turn \n",
    "results = []\n",
    "names = []\n",
    "scoring = 'accuracy'\n",
    "for name, model in models:\n",
    "    kfold = model_selection.KFold(n_splits=10, random_state = random_state)\n",
    "    cv_results = model_selection.cross_val_score(estimator = model, X = X, y = y, cv = kfold, scoring = scoring)\n",
    "    results.append(cv_results)\n",
    "    names.append(name)\n",
    "    message = \"{}: mean = {}; std = {}\".format(name, cv_results.mean(), cv_results.std())\n",
    "    print(message)  "
   ]
  },
  {
   "cell_type": "code",
   "execution_count": 53,
   "metadata": {},
   "outputs": [
    {
     "data": {
      "text/html": [
       "<div>\n",
       "<style scoped>\n",
       "    .dataframe tbody tr th:only-of-type {\n",
       "        vertical-align: middle;\n",
       "    }\n",
       "\n",
       "    .dataframe tbody tr th {\n",
       "        vertical-align: top;\n",
       "    }\n",
       "\n",
       "    .dataframe thead th {\n",
       "        text-align: right;\n",
       "    }\n",
       "</style>\n",
       "<table border=\"1\" class=\"dataframe\">\n",
       "  <thead>\n",
       "    <tr style=\"text-align: right;\">\n",
       "      <th></th>\n",
       "      <th>name</th>\n",
       "      <th>mean_accuracy_score</th>\n",
       "    </tr>\n",
       "  </thead>\n",
       "  <tbody>\n",
       "    <tr>\n",
       "      <th>0</th>\n",
       "      <td>LR</td>\n",
       "      <td>0.831884</td>\n",
       "    </tr>\n",
       "    <tr>\n",
       "      <th>1</th>\n",
       "      <td>Linear SVM</td>\n",
       "      <td>0.856522</td>\n",
       "    </tr>\n",
       "    <tr>\n",
       "      <th>2</th>\n",
       "      <td>RBF SVM</td>\n",
       "      <td>0.831884</td>\n",
       "    </tr>\n",
       "    <tr>\n",
       "      <th>3</th>\n",
       "      <td>KNN</td>\n",
       "      <td>0.778261</td>\n",
       "    </tr>\n",
       "    <tr>\n",
       "      <th>4</th>\n",
       "      <td>Decision Tree</td>\n",
       "      <td>0.784058</td>\n",
       "    </tr>\n",
       "    <tr>\n",
       "      <th>5</th>\n",
       "      <td>NB</td>\n",
       "      <td>0.720290</td>\n",
       "    </tr>\n",
       "    <tr>\n",
       "      <th>6</th>\n",
       "      <td>AdaBoost</td>\n",
       "      <td>0.814493</td>\n",
       "    </tr>\n",
       "    <tr>\n",
       "      <th>7</th>\n",
       "      <td>Random Forest</td>\n",
       "      <td>0.815942</td>\n",
       "    </tr>\n",
       "  </tbody>\n",
       "</table>\n",
       "</div>"
      ],
      "text/plain": [
       "            name  mean_accuracy_score\n",
       "0             LR             0.831884\n",
       "1     Linear SVM             0.856522\n",
       "2        RBF SVM             0.831884\n",
       "3            KNN             0.778261\n",
       "4  Decision Tree             0.784058\n",
       "5             NB             0.720290\n",
       "6       AdaBoost             0.814493\n",
       "7  Random Forest             0.815942"
      ]
     },
     "execution_count": 53,
     "metadata": {},
     "output_type": "execute_result"
    }
   ],
   "source": [
    "model_df = pd.DataFrame()\n",
    "model_df['name'] = names\n",
    "model_df['mean_accuracy_score'] = np.mean(results, axis = 1)\n",
    "model_df"
   ]
  },
  {
   "cell_type": "code",
   "execution_count": 54,
   "metadata": {},
   "outputs": [
    {
     "data": {
      "image/png": "[encoded data removed]",
      "text/plain": [
       "<Figure size 864x576 with 1 Axes>"
      ]
     },
     "metadata": {},
     "output_type": "display_data"
    }
   ],
   "source": [
    "plt.figure(figsize = (12, 8))\n",
    "ax = sns.boxplot(data=results)\n",
    "ax.set_xticklabels(names, size = 12)\n",
    "plt.title('Machine learning Algorithm comparison', size = 18)\n",
    "plt.savefig('machine_learning_comparison.png')\n",
    "plt.show()"
   ]
  },
  {
   "cell_type": "markdown",
   "metadata": {},
   "source": [
    "#### From the figure above, we achieved the highest mean accuracy (85%) with Linear SVM algorithm. "
   ]
  },
  {
   "cell_type": "code",
   "execution_count": 55,
   "metadata": {},
   "outputs": [
    {
     "data": {
      "text/plain": [
       "[('LR', LogisticRegression()),\n",
       " ('Linear SVM', SVC(C=0.025, kernel='linear')),\n",
       " ('RBF SVM', SVC()),\n",
       " ('KNN', KNeighborsClassifier()),\n",
       " ('Decision Tree', DecisionTreeClassifier(max_depth=3)),\n",
       " ('NB', GaussianNB()),\n",
       " ('AdaBoost', AdaBoostClassifier(n_estimators=10)),\n",
       " ('Random Forest',\n",
       "  RandomForestClassifier(max_depth=5, max_features=20, n_estimators=20))]"
      ]
     },
     "execution_count": 55,
     "metadata": {},
     "output_type": "execute_result"
    }
   ],
   "source": [
    "### Get most important feature responsible for determining which applicants get credit card or not. \n",
    "models"
   ]
  },
  {
   "cell_type": "markdown",
   "metadata": {},
   "source": [
    "### Random Forest model to determine the most important feature"
   ]
  },
  {
   "cell_type": "code",
   "execution_count": 56,
   "metadata": {},
   "outputs": [
    {
     "data": {
      "image/png": "[encoded data removed]",
      "text/plain": [
       "<Figure size 720x720 with 1 Axes>"
      ]
     },
     "metadata": {},
     "output_type": "display_data"
    }
   ],
   "source": [
    "models[-1][-1].fit(X, y)\n",
    "important_rf = pd.Series(models[-1][-1].feature_importances_, index = cc_apps_concat_df.columns[:-1])\n",
    "sorted_important_rf = important_rf.sort_values()\n",
    "ax = sorted_important_rf.plot(kind = 'barh', color = 'red', figsize = (10, 10), title = 'Feature ranking of independent variables')\n",
    "ax.title.set_size(18)\n",
    "plt.savefig('feature_ranking.png')\n",
    "plt.show()\n"
   ]
  },
  {
   "cell_type": "markdown",
   "metadata": {},
   "source": [
    "#### From the figure, Prior default and credit score are the two most important features that determine if an applicant get approved a credit card or not. "
   ]
  },
  {
   "cell_type": "code",
   "execution_count": null,
   "metadata": {},
   "outputs": [],
   "source": []
  }
 ],
 "metadata": {
  "kernelspec": {
   "display_name": "Python 3",
   "language": "python",
   "name": "python3"
  },
  "language_info": {
   "codemirror_mode": {
    "name": "ipython",
    "version": 3
   },
   "file_extension": ".py",
   "mimetype": "text/x-python",
   "name": "python",
   "nbconvert_exporter": "python",
   "pygments_lexer": "ipython3",
   "version": "3.7.6"
  }
 },
 "nbformat": 4,
 "nbformat_minor": 4
}
